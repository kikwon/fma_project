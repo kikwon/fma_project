{
  "nbformat": 4,
  "nbformat_minor": 0,
  "metadata": {
    "colab": {
      "name": "melspec_vgg.ipynb",
      "provenance": [],
      "collapsed_sections": [],
      "machine_shape": "hm"
    },
    "kernelspec": {
      "name": "python3",
      "display_name": "Python 3"
    },
    "accelerator": "TPU"
  },
  "cells": [
    {
      "cell_type": "code",
      "metadata": {
        "id": "wrK9Z7XloF30",
        "colab_type": "code",
        "colab": {}
      },
      "source": [
        "import pandas as pd\n",
        "import numpy as np\n",
        "import matplotlib.pyplot as plt\n",
        "import tensorflow as tf\n",
        "\n",
        "import gc\n",
        "import librosa\n",
        "import pickle\n",
        "\n",
        "from sklearn.preprocessing import LabelEncoder\n",
        "from tensorflow import keras\n",
        "from tensorflow.keras.layers import Dense, Conv2D, MaxPool2D, Flatten, Dropout\n",
        "from tensorflow.keras.layers import BatchNormalization\n",
        "from tensorflow.keras.callbacks import ModelCheckpoint\n",
        "from tensorflow.keras.regularizers import l2\n",
        "from tensorflow.keras.models import load_model"
      ],
      "execution_count": 0,
      "outputs": []
    },
    {
      "cell_type": "code",
      "metadata": {
        "id": "Iw8ml-WdBvLj",
        "colab_type": "code",
        "colab": {}
      },
      "source": [
        "tf.config.experimental_run_functions_eagerly(True)"
      ],
      "execution_count": 0,
      "outputs": []
    },
    {
      "cell_type": "code",
      "metadata": {
        "id": "RJ7uiC60oWRP",
        "colab_type": "code",
        "outputId": "d544437d-2133-4084-8a94-04e4b415a341",
        "colab": {
          "base_uri": "https://localhost:8080/",
          "height": 53
        }
      },
      "source": [
        "from google.colab import drive\n",
        "drive.mount('/content/drive')"
      ],
      "execution_count": 3,
      "outputs": [
        {
          "output_type": "stream",
          "text": [
            "Drive already mounted at /content/drive; to attempt to forcibly remount, call drive.mount(\"/content/drive\", force_remount=True).\n"
          ],
          "name": "stdout"
        }
      ]
    },
    {
      "cell_type": "code",
      "metadata": {
        "id": "UM8hYPXEoWT4",
        "colab_type": "code",
        "colab": {}
      },
      "source": [
        "root_dir = \"/content/drive/My Drive/\"\n",
        "base_dir = root_dir + 'fma/' # Your own folder "
      ],
      "execution_count": 0,
      "outputs": []
    },
    {
      "cell_type": "code",
      "metadata": {
        "id": "Y38k9n67oWYQ",
        "colab_type": "code",
        "colab": {}
      },
      "source": [
        "tracks = pd.read_csv(base_dir + 'fma_metadata/tracks.csv', low_memory=False)\n",
        "tracks.columns = tracks.iloc[0]\n",
        "tracks = tracks.drop([0, 1])\n",
        "new_cols = tracks.columns.values\n",
        "new_cols[0] = 'track_id'\n",
        "tracks.columns = new_cols\n",
        "tracks = tracks.reset_index(drop=True)"
      ],
      "execution_count": 0,
      "outputs": []
    },
    {
      "cell_type": "code",
      "metadata": {
        "id": "hIjvLVH4oy7-",
        "colab_type": "code",
        "outputId": "9a320478-bc7d-47df-be17-53dbc0f83eb1",
        "colab": {
          "base_uri": "https://localhost:8080/",
          "height": 467
        }
      },
      "source": [
        "tracks.head()"
      ],
      "execution_count": 5,
      "outputs": [
        {
          "output_type": "execute_result",
          "data": {
            "text/html": [
              "<div>\n",
              "<style scoped>\n",
              "    .dataframe tbody tr th:only-of-type {\n",
              "        vertical-align: middle;\n",
              "    }\n",
              "\n",
              "    .dataframe tbody tr th {\n",
              "        vertical-align: top;\n",
              "    }\n",
              "\n",
              "    .dataframe thead th {\n",
              "        text-align: right;\n",
              "    }\n",
              "</style>\n",
              "<table border=\"1\" class=\"dataframe\">\n",
              "  <thead>\n",
              "    <tr style=\"text-align: right;\">\n",
              "      <th></th>\n",
              "      <th>track_id</th>\n",
              "      <th>comments</th>\n",
              "      <th>date_created</th>\n",
              "      <th>date_released</th>\n",
              "      <th>engineer</th>\n",
              "      <th>favorites</th>\n",
              "      <th>id</th>\n",
              "      <th>information</th>\n",
              "      <th>listens</th>\n",
              "      <th>producer</th>\n",
              "      <th>tags</th>\n",
              "      <th>title</th>\n",
              "      <th>tracks</th>\n",
              "      <th>type</th>\n",
              "      <th>active_year_begin</th>\n",
              "      <th>active_year_end</th>\n",
              "      <th>associated_labels</th>\n",
              "      <th>bio</th>\n",
              "      <th>comments</th>\n",
              "      <th>date_created</th>\n",
              "      <th>favorites</th>\n",
              "      <th>id</th>\n",
              "      <th>latitude</th>\n",
              "      <th>location</th>\n",
              "      <th>longitude</th>\n",
              "      <th>members</th>\n",
              "      <th>name</th>\n",
              "      <th>related_projects</th>\n",
              "      <th>tags</th>\n",
              "      <th>website</th>\n",
              "      <th>wikipedia_page</th>\n",
              "      <th>split</th>\n",
              "      <th>subset</th>\n",
              "      <th>bit_rate</th>\n",
              "      <th>comments</th>\n",
              "      <th>composer</th>\n",
              "      <th>date_created</th>\n",
              "      <th>date_recorded</th>\n",
              "      <th>duration</th>\n",
              "      <th>favorites</th>\n",
              "      <th>genre_top</th>\n",
              "      <th>genres</th>\n",
              "      <th>genres_all</th>\n",
              "      <th>information</th>\n",
              "      <th>interest</th>\n",
              "      <th>language_code</th>\n",
              "      <th>license</th>\n",
              "      <th>listens</th>\n",
              "      <th>lyricist</th>\n",
              "      <th>number</th>\n",
              "      <th>publisher</th>\n",
              "      <th>tags</th>\n",
              "      <th>title</th>\n",
              "    </tr>\n",
              "  </thead>\n",
              "  <tbody>\n",
              "    <tr>\n",
              "      <th>0</th>\n",
              "      <td>2</td>\n",
              "      <td>0</td>\n",
              "      <td>2008-11-26 01:44:45</td>\n",
              "      <td>2009-01-05 00:00:00</td>\n",
              "      <td>NaN</td>\n",
              "      <td>4</td>\n",
              "      <td>1</td>\n",
              "      <td>&lt;p&gt;&lt;/p&gt;</td>\n",
              "      <td>6073</td>\n",
              "      <td>NaN</td>\n",
              "      <td>[]</td>\n",
              "      <td>AWOL - A Way Of Life</td>\n",
              "      <td>7</td>\n",
              "      <td>Album</td>\n",
              "      <td>2006-01-01 00:00:00</td>\n",
              "      <td>NaN</td>\n",
              "      <td>NaN</td>\n",
              "      <td>&lt;p&gt;A Way Of Life, A Collective of Hip-Hop from...</td>\n",
              "      <td>0</td>\n",
              "      <td>2008-11-26 01:42:32</td>\n",
              "      <td>9</td>\n",
              "      <td>1</td>\n",
              "      <td>40.0583238</td>\n",
              "      <td>New Jersey</td>\n",
              "      <td>-74.4056612</td>\n",
              "      <td>Sajje Morocco,Brownbum,ZawidaGod,Custodian of ...</td>\n",
              "      <td>AWOL</td>\n",
              "      <td>The list of past projects is 2 long but every1...</td>\n",
              "      <td>['awol']</td>\n",
              "      <td>http://www.AzillionRecords.blogspot.com</td>\n",
              "      <td>NaN</td>\n",
              "      <td>training</td>\n",
              "      <td>small</td>\n",
              "      <td>256000</td>\n",
              "      <td>0</td>\n",
              "      <td>NaN</td>\n",
              "      <td>2008-11-26 01:48:12</td>\n",
              "      <td>2008-11-26 00:00:00</td>\n",
              "      <td>168</td>\n",
              "      <td>2</td>\n",
              "      <td>Hip-Hop</td>\n",
              "      <td>[21]</td>\n",
              "      <td>[21]</td>\n",
              "      <td>NaN</td>\n",
              "      <td>4656</td>\n",
              "      <td>en</td>\n",
              "      <td>Attribution-NonCommercial-ShareAlike 3.0 Inter...</td>\n",
              "      <td>1293</td>\n",
              "      <td>NaN</td>\n",
              "      <td>3</td>\n",
              "      <td>NaN</td>\n",
              "      <td>[]</td>\n",
              "      <td>Food</td>\n",
              "    </tr>\n",
              "    <tr>\n",
              "      <th>1</th>\n",
              "      <td>3</td>\n",
              "      <td>0</td>\n",
              "      <td>2008-11-26 01:44:45</td>\n",
              "      <td>2009-01-05 00:00:00</td>\n",
              "      <td>NaN</td>\n",
              "      <td>4</td>\n",
              "      <td>1</td>\n",
              "      <td>&lt;p&gt;&lt;/p&gt;</td>\n",
              "      <td>6073</td>\n",
              "      <td>NaN</td>\n",
              "      <td>[]</td>\n",
              "      <td>AWOL - A Way Of Life</td>\n",
              "      <td>7</td>\n",
              "      <td>Album</td>\n",
              "      <td>2006-01-01 00:00:00</td>\n",
              "      <td>NaN</td>\n",
              "      <td>NaN</td>\n",
              "      <td>&lt;p&gt;A Way Of Life, A Collective of Hip-Hop from...</td>\n",
              "      <td>0</td>\n",
              "      <td>2008-11-26 01:42:32</td>\n",
              "      <td>9</td>\n",
              "      <td>1</td>\n",
              "      <td>40.0583238</td>\n",
              "      <td>New Jersey</td>\n",
              "      <td>-74.4056612</td>\n",
              "      <td>Sajje Morocco,Brownbum,ZawidaGod,Custodian of ...</td>\n",
              "      <td>AWOL</td>\n",
              "      <td>The list of past projects is 2 long but every1...</td>\n",
              "      <td>['awol']</td>\n",
              "      <td>http://www.AzillionRecords.blogspot.com</td>\n",
              "      <td>NaN</td>\n",
              "      <td>training</td>\n",
              "      <td>medium</td>\n",
              "      <td>256000</td>\n",
              "      <td>0</td>\n",
              "      <td>NaN</td>\n",
              "      <td>2008-11-26 01:48:14</td>\n",
              "      <td>2008-11-26 00:00:00</td>\n",
              "      <td>237</td>\n",
              "      <td>1</td>\n",
              "      <td>Hip-Hop</td>\n",
              "      <td>[21]</td>\n",
              "      <td>[21]</td>\n",
              "      <td>NaN</td>\n",
              "      <td>1470</td>\n",
              "      <td>en</td>\n",
              "      <td>Attribution-NonCommercial-ShareAlike 3.0 Inter...</td>\n",
              "      <td>514</td>\n",
              "      <td>NaN</td>\n",
              "      <td>4</td>\n",
              "      <td>NaN</td>\n",
              "      <td>[]</td>\n",
              "      <td>Electric Ave</td>\n",
              "    </tr>\n",
              "    <tr>\n",
              "      <th>2</th>\n",
              "      <td>5</td>\n",
              "      <td>0</td>\n",
              "      <td>2008-11-26 01:44:45</td>\n",
              "      <td>2009-01-05 00:00:00</td>\n",
              "      <td>NaN</td>\n",
              "      <td>4</td>\n",
              "      <td>1</td>\n",
              "      <td>&lt;p&gt;&lt;/p&gt;</td>\n",
              "      <td>6073</td>\n",
              "      <td>NaN</td>\n",
              "      <td>[]</td>\n",
              "      <td>AWOL - A Way Of Life</td>\n",
              "      <td>7</td>\n",
              "      <td>Album</td>\n",
              "      <td>2006-01-01 00:00:00</td>\n",
              "      <td>NaN</td>\n",
              "      <td>NaN</td>\n",
              "      <td>&lt;p&gt;A Way Of Life, A Collective of Hip-Hop from...</td>\n",
              "      <td>0</td>\n",
              "      <td>2008-11-26 01:42:32</td>\n",
              "      <td>9</td>\n",
              "      <td>1</td>\n",
              "      <td>40.0583238</td>\n",
              "      <td>New Jersey</td>\n",
              "      <td>-74.4056612</td>\n",
              "      <td>Sajje Morocco,Brownbum,ZawidaGod,Custodian of ...</td>\n",
              "      <td>AWOL</td>\n",
              "      <td>The list of past projects is 2 long but every1...</td>\n",
              "      <td>['awol']</td>\n",
              "      <td>http://www.AzillionRecords.blogspot.com</td>\n",
              "      <td>NaN</td>\n",
              "      <td>training</td>\n",
              "      <td>small</td>\n",
              "      <td>256000</td>\n",
              "      <td>0</td>\n",
              "      <td>NaN</td>\n",
              "      <td>2008-11-26 01:48:20</td>\n",
              "      <td>2008-11-26 00:00:00</td>\n",
              "      <td>206</td>\n",
              "      <td>6</td>\n",
              "      <td>Hip-Hop</td>\n",
              "      <td>[21]</td>\n",
              "      <td>[21]</td>\n",
              "      <td>NaN</td>\n",
              "      <td>1933</td>\n",
              "      <td>en</td>\n",
              "      <td>Attribution-NonCommercial-ShareAlike 3.0 Inter...</td>\n",
              "      <td>1151</td>\n",
              "      <td>NaN</td>\n",
              "      <td>6</td>\n",
              "      <td>NaN</td>\n",
              "      <td>[]</td>\n",
              "      <td>This World</td>\n",
              "    </tr>\n",
              "    <tr>\n",
              "      <th>3</th>\n",
              "      <td>10</td>\n",
              "      <td>0</td>\n",
              "      <td>2008-11-26 01:45:08</td>\n",
              "      <td>2008-02-06 00:00:00</td>\n",
              "      <td>NaN</td>\n",
              "      <td>4</td>\n",
              "      <td>6</td>\n",
              "      <td>NaN</td>\n",
              "      <td>47632</td>\n",
              "      <td>NaN</td>\n",
              "      <td>[]</td>\n",
              "      <td>Constant Hitmaker</td>\n",
              "      <td>2</td>\n",
              "      <td>Album</td>\n",
              "      <td>NaN</td>\n",
              "      <td>NaN</td>\n",
              "      <td>Mexican Summer, Richie Records, Woodsist, Skul...</td>\n",
              "      <td>&lt;p&gt;&lt;span style=\"font-family:Verdana, Geneva, A...</td>\n",
              "      <td>3</td>\n",
              "      <td>2008-11-26 01:42:55</td>\n",
              "      <td>74</td>\n",
              "      <td>6</td>\n",
              "      <td>NaN</td>\n",
              "      <td>NaN</td>\n",
              "      <td>NaN</td>\n",
              "      <td>Kurt Vile, the Violators</td>\n",
              "      <td>Kurt Vile</td>\n",
              "      <td>NaN</td>\n",
              "      <td>['philly', 'kurt vile']</td>\n",
              "      <td>http://kurtvile.com</td>\n",
              "      <td>NaN</td>\n",
              "      <td>training</td>\n",
              "      <td>small</td>\n",
              "      <td>192000</td>\n",
              "      <td>0</td>\n",
              "      <td>Kurt Vile</td>\n",
              "      <td>2008-11-25 17:49:06</td>\n",
              "      <td>2008-11-26 00:00:00</td>\n",
              "      <td>161</td>\n",
              "      <td>178</td>\n",
              "      <td>Pop</td>\n",
              "      <td>[10]</td>\n",
              "      <td>[10]</td>\n",
              "      <td>NaN</td>\n",
              "      <td>54881</td>\n",
              "      <td>en</td>\n",
              "      <td>Attribution-NonCommercial-NoDerivatives (aka M...</td>\n",
              "      <td>50135</td>\n",
              "      <td>NaN</td>\n",
              "      <td>1</td>\n",
              "      <td>NaN</td>\n",
              "      <td>[]</td>\n",
              "      <td>Freeway</td>\n",
              "    </tr>\n",
              "    <tr>\n",
              "      <th>4</th>\n",
              "      <td>20</td>\n",
              "      <td>0</td>\n",
              "      <td>2008-11-26 01:45:05</td>\n",
              "      <td>2009-01-06 00:00:00</td>\n",
              "      <td>NaN</td>\n",
              "      <td>2</td>\n",
              "      <td>4</td>\n",
              "      <td>&lt;p&gt; \"spiritual songs\" from Nicky Cook&lt;/p&gt;</td>\n",
              "      <td>2710</td>\n",
              "      <td>NaN</td>\n",
              "      <td>[]</td>\n",
              "      <td>Niris</td>\n",
              "      <td>13</td>\n",
              "      <td>Album</td>\n",
              "      <td>1990-01-01 00:00:00</td>\n",
              "      <td>2011-01-01 00:00:00</td>\n",
              "      <td>NaN</td>\n",
              "      <td>&lt;p&gt;Songs written by: Nicky Cook&lt;/p&gt;\\n&lt;p&gt;VOCALS...</td>\n",
              "      <td>2</td>\n",
              "      <td>2008-11-26 01:42:52</td>\n",
              "      <td>10</td>\n",
              "      <td>4</td>\n",
              "      <td>51.895927</td>\n",
              "      <td>Colchester England</td>\n",
              "      <td>0.891874</td>\n",
              "      <td>Nicky Cook\\n</td>\n",
              "      <td>Nicky Cook</td>\n",
              "      <td>NaN</td>\n",
              "      <td>['instrumentals', 'experimental pop', 'post pu...</td>\n",
              "      <td>NaN</td>\n",
              "      <td>NaN</td>\n",
              "      <td>training</td>\n",
              "      <td>large</td>\n",
              "      <td>256000</td>\n",
              "      <td>0</td>\n",
              "      <td>NaN</td>\n",
              "      <td>2008-11-26 01:48:56</td>\n",
              "      <td>2008-01-01 00:00:00</td>\n",
              "      <td>311</td>\n",
              "      <td>0</td>\n",
              "      <td>NaN</td>\n",
              "      <td>[76, 103]</td>\n",
              "      <td>[17, 10, 76, 103]</td>\n",
              "      <td>NaN</td>\n",
              "      <td>978</td>\n",
              "      <td>en</td>\n",
              "      <td>Attribution-NonCommercial-NoDerivatives (aka M...</td>\n",
              "      <td>361</td>\n",
              "      <td>NaN</td>\n",
              "      <td>3</td>\n",
              "      <td>NaN</td>\n",
              "      <td>[]</td>\n",
              "      <td>Spiritual Level</td>\n",
              "    </tr>\n",
              "  </tbody>\n",
              "</table>\n",
              "</div>"
            ],
            "text/plain": [
              "  track_id comments         date_created  ... publisher tags            title\n",
              "0        2        0  2008-11-26 01:44:45  ...       NaN   []             Food\n",
              "1        3        0  2008-11-26 01:44:45  ...       NaN   []     Electric Ave\n",
              "2        5        0  2008-11-26 01:44:45  ...       NaN   []       This World\n",
              "3       10        0  2008-11-26 01:45:08  ...       NaN   []          Freeway\n",
              "4       20        0  2008-11-26 01:45:05  ...       NaN   []  Spiritual Level\n",
              "\n",
              "[5 rows x 53 columns]"
            ]
          },
          "metadata": {
            "tags": []
          },
          "execution_count": 5
        }
      ]
    },
    {
      "cell_type": "code",
      "metadata": {
        "id": "ZmaI7kFRoWak",
        "colab_type": "code",
        "outputId": "71a64733-04ff-4253-f7f4-bbf497480cb1",
        "colab": {
          "base_uri": "https://localhost:8080/",
          "height": 150
        }
      },
      "source": [
        "melspec = pickle.load(open(base_dir + 'mel-spec.pkl', 'rb'))\n",
        "gc.collect()\n",
        "print(melspec[0])\n",
        "print(melspec[0].shape)"
      ],
      "execution_count": 15,
      "outputs": [
        {
          "output_type": "stream",
          "text": [
            "[[-65.062225 -47.759476 -44.176395 ... -39.408173 -41.73693  -29.414968]\n",
            " [-65.40291  -52.760864 -49.179825 ... -16.405546 -16.314037 -17.623047]\n",
            " [-69.48193  -56.67646  -50.5069   ... -16.358839 -16.07241  -18.654762]\n",
            " ...\n",
            " [-79.42308  -59.74297  -36.38287  ... -46.371128 -42.364655 -50.543457]\n",
            " [-80.       -63.4197   -41.733234 ... -50.3838   -46.90663  -58.020092]\n",
            " [-80.       -73.82068  -52.945995 ... -63.188034 -56.469955 -67.65623 ]]\n",
            "(128, 646)\n"
          ],
          "name": "stdout"
        }
      ]
    },
    {
      "cell_type": "code",
      "metadata": {
        "id": "s3-WXt_boWcp",
        "colab_type": "code",
        "outputId": "3ae3ea80-6428-4ddf-88b8-421aac13367c",
        "colab": {
          "base_uri": "https://localhost:8080/",
          "height": 33
        }
      },
      "source": [
        "melspec_df = pd.DataFrame(melspec)\n",
        "index_nan = np.argwhere(pd.isnull(melspec))\n",
        "\n",
        "melspec_df = melspec_df.dropna()\n",
        "melspec = melspec_df.to_numpy().ravel()\n",
        "\n",
        "max_dim = 0\n",
        "for i in melspec:\n",
        "    if i.shape[1] > max_dim:\n",
        "        max_dim = i.shape[1]\n",
        "    else:\n",
        "        pass\n",
        "print(max_dim)"
      ],
      "execution_count": 16,
      "outputs": [
        {
          "output_type": "stream",
          "text": [
            "647\n"
          ],
          "name": "stdout"
        }
      ]
    },
    {
      "cell_type": "code",
      "metadata": {
        "id": "Soi_79NroWe-",
        "colab_type": "code",
        "colab": {}
      },
      "source": [
        "for i in range(len(melspec)):\n",
        "    melspec[i] = np.append(melspec[i], \n",
        "                           np.zeros((128, max_dim - melspec[i].shape[1])), \n",
        "                           axis=1)\n",
        "    #melspec[i] = melspec[i][:128, :400] # To save memory\n",
        "    melspec[i] = librosa.util.normalize(melspec[i])\n",
        "    \n",
        "index_nan = index_nan.ravel()"
      ],
      "execution_count": 0,
      "outputs": []
    },
    {
      "cell_type": "code",
      "metadata": {
        "id": "4jvpusaToWhO",
        "colab_type": "code",
        "outputId": "38685fb2-e8e8-48f0-cf1b-cc89e894d994",
        "colab": {
          "base_uri": "https://localhost:8080/",
          "height": 50
        }
      },
      "source": [
        "print(melspec[0].shape)\n",
        "del melspec_df\n",
        "gc.collect()"
      ],
      "execution_count": 18,
      "outputs": [
        {
          "output_type": "stream",
          "text": [
            "(128, 647)\n"
          ],
          "name": "stdout"
        },
        {
          "output_type": "execute_result",
          "data": {
            "text/plain": [
              "427"
            ]
          },
          "metadata": {
            "tags": []
          },
          "execution_count": 18
        }
      ]
    },
    {
      "cell_type": "code",
      "metadata": {
        "id": "DMMKv5xkoWju",
        "colab_type": "code",
        "colab": {}
      },
      "source": [
        "tracks = tracks.loc[tracks['subset'] == 'small']\n",
        "tracks = tracks.reset_index()\n",
        "tracks = tracks.drop(index_nan)\n",
        "tracks = tracks.reset_index()"
      ],
      "execution_count": 0,
      "outputs": []
    },
    {
      "cell_type": "code",
      "metadata": {
        "id": "PhOxNzxXpN2B",
        "colab_type": "code",
        "outputId": "d1d9a0af-673b-47ca-f24a-041323377111",
        "colab": {
          "base_uri": "https://localhost:8080/",
          "height": 250
        }
      },
      "source": [
        "y_train = tracks.loc[(tracks['split'] == 'training')]['genre_top']\n",
        "y_val = tracks.loc[(tracks['split'] == 'validation')]['genre_top']\n",
        "y_test = tracks.loc[(tracks['split'] == 'test')]['genre_top']\n",
        "\n",
        "index_train = y_train.index\n",
        "index_val = y_val.index\n",
        "index_test = y_test.index\n",
        "print(index_train)\n",
        "print(index_val)\n",
        "print(index_test)\n",
        "print(len(y_train) + len(y_val) + len(y_test))\n",
        "\n",
        "y_train = np.array(y_train)\n",
        "y_val = np.array(y_val)\n",
        "y_test = np.array(y_test)\n",
        "\n",
        "le = LabelEncoder()\n",
        "y_train = le.fit_transform(y_train)\n",
        "y_val = le.transform(y_val)\n",
        "y_test = le.transform(y_test)\n",
        "\n",
        "y_train = keras.utils.to_categorical(y_train, num_classes=8, dtype='int32')\n",
        "y_val = keras.utils.to_categorical(y_val, num_classes=8, dtype='int32')\n",
        "y_test = keras.utils.to_categorical(y_test, num_classes=8, dtype='int32')\n",
        "\n",
        "gc.collect()"
      ],
      "execution_count": 20,
      "outputs": [
        {
          "output_type": "stream",
          "text": [
            "Int64Index([   0,    1,    2,    3,    4,    7,    8,    9,   10,   11,\n",
            "            ...\n",
            "            7981, 7982, 7983, 7984, 7985, 7986, 7987, 7994, 7995, 7996],\n",
            "           dtype='int64', length=6397)\n",
            "Int64Index([   5,   23,   28,   36,   58,   70,  117,  122,  126,  127,\n",
            "            ...\n",
            "            7854, 7855, 7856, 7857, 7858, 7859, 7860, 7869, 7871, 7928],\n",
            "           dtype='int64', length=800)\n",
            "Int64Index([   6,   39,   40,   41,   42,   43,   44,   55,   56,   64,\n",
            "            ...\n",
            "            7951, 7952, 7964, 7965, 7988, 7989, 7990, 7991, 7992, 7993],\n",
            "           dtype='int64', length=800)\n",
            "7997\n"
          ],
          "name": "stdout"
        },
        {
          "output_type": "execute_result",
          "data": {
            "text/plain": [
              "0"
            ]
          },
          "metadata": {
            "tags": []
          },
          "execution_count": 20
        }
      ]
    },
    {
      "cell_type": "code",
      "metadata": {
        "id": "vAJpKvnjpN5h",
        "colab_type": "code",
        "outputId": "20062d2f-d637-4d6c-97bf-5c006f03fded",
        "colab": {
          "base_uri": "https://localhost:8080/",
          "height": 33
        }
      },
      "source": [
        "melspec = np.stack(melspec.ravel()).reshape(-1, 128, max_dim)\n",
        "gc.collect()"
      ],
      "execution_count": 21,
      "outputs": [
        {
          "output_type": "execute_result",
          "data": {
            "text/plain": [
              "0"
            ]
          },
          "metadata": {
            "tags": []
          },
          "execution_count": 21
        }
      ]
    },
    {
      "cell_type": "code",
      "metadata": {
        "id": "h6JT8jfhpOJV",
        "colab_type": "code",
        "outputId": "6872b1e3-4c2e-4910-a382-f51a3b672af8",
        "colab": {
          "base_uri": "https://localhost:8080/",
          "height": 67
        }
      },
      "source": [
        "print(melspec.shape)\n",
        "\n",
        "melspec = melspec.reshape((-1, 128, max_dim, 1))\n",
        "print(melspec.shape)\n",
        "\n",
        "print(melspec[0].shape)"
      ],
      "execution_count": 22,
      "outputs": [
        {
          "output_type": "stream",
          "text": [
            "(7997, 128, 647)\n",
            "(7997, 128, 647, 1)\n",
            "(128, 647, 1)\n"
          ],
          "name": "stdout"
        }
      ]
    },
    {
      "cell_type": "code",
      "metadata": {
        "id": "czzQfZdWqXLG",
        "colab_type": "code",
        "colab": {}
      },
      "source": [
        "X_train = melspec[index_train]\n",
        "X_val = melspec[index_val]\n",
        "X_test = melspec[index_test]"
      ],
      "execution_count": 0,
      "outputs": []
    },
    {
      "cell_type": "code",
      "metadata": {
        "id": "JLgRfcknqZE6",
        "colab_type": "code",
        "outputId": "839b1f0f-bc4f-423a-d5fc-6d27bb288383",
        "colab": {
          "base_uri": "https://localhost:8080/",
          "height": 867
        }
      },
      "source": [
        "print(len(X_train))\n",
        "print(y_train.shape)\n",
        "print(X_train[0])"
      ],
      "execution_count": 24,
      "outputs": [
        {
          "output_type": "stream",
          "text": [
            "6397\n",
            "(6397, 8)\n",
            "[[[-0.81327782]\n",
            "  [-0.64696609]\n",
            "  [-0.81883592]\n",
            "  ...\n",
            "  [-0.73909977]\n",
            "  [-0.43477104]\n",
            "  [ 0.        ]]\n",
            "\n",
            " [[-0.81753635]\n",
            "  [-0.7147166 ]\n",
            "  [-0.91157748]\n",
            "  ...\n",
            "  [-0.28889765]\n",
            "  [-0.2604793 ]\n",
            "  [ 0.        ]]\n",
            "\n",
            " [[-0.86852417]\n",
            "  [-0.76775859]\n",
            "  [-0.93617563]\n",
            "  ...\n",
            "  [-0.28461879]\n",
            "  [-0.27572868]\n",
            "  [ 0.        ]]\n",
            "\n",
            " ...\n",
            "\n",
            " [[-0.99278851]\n",
            "  [-0.80929857]\n",
            "  [-0.67437826]\n",
            "  ...\n",
            "  [-0.75021583]\n",
            "  [-0.7470629 ]\n",
            "  [ 0.        ]]\n",
            "\n",
            " [[-1.        ]\n",
            "  [-0.85910482]\n",
            "  [-0.77355047]\n",
            "  ...\n",
            "  [-0.83064757]\n",
            "  [-0.85757209]\n",
            "  [ 0.        ]]\n",
            "\n",
            " [[-1.        ]\n",
            "  [-1.        ]\n",
            "  [-0.9813857 ]\n",
            "  ...\n",
            "  [-1.        ]\n",
            "  [-1.        ]\n",
            "  [ 0.        ]]]\n"
          ],
          "name": "stdout"
        }
      ]
    },
    {
      "cell_type": "code",
      "metadata": {
        "id": "zbIpLUhdqZHt",
        "colab_type": "code",
        "colab": {}
      },
      "source": [
        "def plot_history(history):\n",
        "  acc = history.history['acc']\n",
        "  val_acc = history.history['val_acc']\n",
        "  loss = history.history['loss']\n",
        "  val_loss = history.history['val_loss']\n",
        "  x = range(1, len(acc) + 1)\n",
        "  plt.figure(figsize=(12, 5))\n",
        "\n",
        "  plt.subplot(1, 2, 1)\n",
        "  plt.plot(x, acc, 'b', label='Training acc')\n",
        "  plt.plot(x, val_acc, 'r', label='Validation acc')\n",
        "  plt.title('Training and validation accuracy')\n",
        "  plt.legend()\n",
        "  \n",
        "  plt.subplot(1, 2, 2)\n",
        "  plt.plot(x, loss, 'b', label='Training loss')\n",
        "  plt.plot(x, val_loss, 'r', label='Validation loss')\n",
        "  plt.title('Training and validation loss')\n",
        "  plt.legend()"
      ],
      "execution_count": 0,
      "outputs": []
    },
    {
      "cell_type": "markdown",
      "metadata": {
        "id": "VQpyN33dqubg",
        "colab_type": "text"
      },
      "source": [
        "# VGG16"
      ]
    },
    {
      "cell_type": "code",
      "metadata": {
        "id": "ovZz-yKPqZJ4",
        "colab_type": "code",
        "outputId": "c6ef7c1d-e417-45e9-9d91-f2cd18c480e8",
        "colab": {
          "base_uri": "https://localhost:8080/",
          "height": 333
        }
      },
      "source": [
        "from tensorflow.keras.applications import VGG16\n",
        "\n",
        "vgg_conv = VGG16(weights='imagenet', \n",
        "                 include_top=False, \n",
        "                 input_shape=(128, 400, 3))\n",
        "\n",
        "for layer in vgg_conv.layers[:-4]:\n",
        "    layer.trainable = False\n",
        "    \n",
        "for layer in vgg_conv.layers:\n",
        "    print(layer, layer.trainable)"
      ],
      "execution_count": 26,
      "outputs": [
        {
          "output_type": "stream",
          "text": [
            "<tensorflow.python.keras.engine.input_layer.InputLayer object at 0x7fd377d3ef60> False\n",
            "<tensorflow.python.keras.layers.convolutional.Conv2D object at 0x7fd37a25f748> False\n",
            "<tensorflow.python.keras.layers.convolutional.Conv2D object at 0x7fd37a25ff28> False\n",
            "<tensorflow.python.keras.layers.pooling.MaxPooling2D object at 0x7fd37b4dd2e8> False\n",
            "<tensorflow.python.keras.layers.convolutional.Conv2D object at 0x7fd37b5f7b70> False\n",
            "<tensorflow.python.keras.layers.convolutional.Conv2D object at 0x7fd37b61f2e8> False\n",
            "<tensorflow.python.keras.layers.pooling.MaxPooling2D object at 0x7fd37b0464a8> False\n",
            "<tensorflow.python.keras.layers.convolutional.Conv2D object at 0x7fd37b046320> False\n",
            "<tensorflow.python.keras.layers.convolutional.Conv2D object at 0x7fd37b036668> False\n",
            "<tensorflow.python.keras.layers.convolutional.Conv2D object at 0x7fd37bfc0828> False\n",
            "<tensorflow.python.keras.layers.pooling.MaxPooling2D object at 0x7fd377c74748> False\n",
            "<tensorflow.python.keras.layers.convolutional.Conv2D object at 0x7fd377c745c0> False\n",
            "<tensorflow.python.keras.layers.convolutional.Conv2D object at 0x7fd377c69908> False\n",
            "<tensorflow.python.keras.layers.convolutional.Conv2D object at 0x7fd377c64ac8> False\n",
            "<tensorflow.python.keras.layers.pooling.MaxPooling2D object at 0x7fd3783319e8> False\n",
            "<tensorflow.python.keras.layers.convolutional.Conv2D object at 0x7fd378331860> True\n",
            "<tensorflow.python.keras.layers.convolutional.Conv2D object at 0x7fd37835cba8> True\n",
            "<tensorflow.python.keras.layers.convolutional.Conv2D object at 0x7fd3783522e8> True\n",
            "<tensorflow.python.keras.layers.pooling.MaxPooling2D object at 0x7fd37833c208> True\n"
          ],
          "name": "stdout"
        }
      ]
    },
    {
      "cell_type": "code",
      "metadata": {
        "id": "BXNuV-_nqZMV",
        "colab_type": "code",
        "colab": {
          "base_uri": "https://localhost:8080/",
          "height": 33
        },
        "outputId": "2c90c71f-5306-4891-ff9c-97b37dec2d51"
      },
      "source": [
        "X_train_RGB = X_train.reshape((-1, 128, max_dim))\n",
        "X_train_RGB = np.repeat(X_train_RGB[..., np.newaxis], 3, -1)\n",
        "X_train_RGB.shape"
      ],
      "execution_count": 27,
      "outputs": [
        {
          "output_type": "execute_result",
          "data": {
            "text/plain": [
              "(6397, 128, 647, 3)"
            ]
          },
          "metadata": {
            "tags": []
          },
          "execution_count": 27
        }
      ]
    },
    {
      "cell_type": "code",
      "metadata": {
        "id": "2xCe57sLqZO0",
        "colab_type": "code",
        "colab": {
          "base_uri": "https://localhost:8080/",
          "height": 33
        },
        "outputId": "5ff3e67a-8c7e-419f-a22f-175e323bea9d"
      },
      "source": [
        "X_val_RGB = X_val.reshape((-1, 128, max_dim))\n",
        "X_val_RGB = np.repeat(X_val_RGB[..., np.newaxis], 3, -1)\n",
        "X_val_RGB.shape"
      ],
      "execution_count": 28,
      "outputs": [
        {
          "output_type": "execute_result",
          "data": {
            "text/plain": [
              "(800, 128, 647, 3)"
            ]
          },
          "metadata": {
            "tags": []
          },
          "execution_count": 28
        }
      ]
    },
    {
      "cell_type": "code",
      "metadata": {
        "id": "DPuSwe4W-180",
        "colab_type": "code",
        "colab": {
          "base_uri": "https://localhost:8080/",
          "height": 317
        },
        "outputId": "575289b2-3382-4f6b-a56b-e65bfbdd1bf2"
      },
      "source": [
        "model = keras.Sequential()\n",
        "\n",
        "model.add(vgg_conv)\n",
        "\n",
        "model.add(Flatten())\n",
        "\n",
        "model.add(Dense(16, activation='relu', kernel_regularizer=keras.regularizers.l2()))\n",
        "model.add(Dropout(0.5))\n",
        "\n",
        "model.add(Dense(8, activation='softmax'))\n",
        "\n",
        "model.summary()"
      ],
      "execution_count": 29,
      "outputs": [
        {
          "output_type": "stream",
          "text": [
            "Model: \"sequential\"\n",
            "_________________________________________________________________\n",
            "Layer (type)                 Output Shape              Param #   \n",
            "=================================================================\n",
            "vgg16 (Model)                (None, 4, 12, 512)        14714688  \n",
            "_________________________________________________________________\n",
            "flatten (Flatten)            (None, 24576)             0         \n",
            "_________________________________________________________________\n",
            "dense (Dense)                (None, 16)                393232    \n",
            "_________________________________________________________________\n",
            "dropout (Dropout)            (None, 16)                0         \n",
            "_________________________________________________________________\n",
            "dense_1 (Dense)              (None, 8)                 136       \n",
            "=================================================================\n",
            "Total params: 15,108,056\n",
            "Trainable params: 7,472,792\n",
            "Non-trainable params: 7,635,264\n",
            "_________________________________________________________________\n"
          ],
          "name": "stdout"
        }
      ]
    },
    {
      "cell_type": "code",
      "metadata": {
        "id": "5jwyHOxq-2B6",
        "colab_type": "code",
        "colab": {}
      },
      "source": [
        "model.compile(optimizer='nadam', \n",
        "              loss=keras.losses.CategoricalCrossentropy(), \n",
        "              metrics=['acc'])"
      ],
      "execution_count": 0,
      "outputs": []
    },
    {
      "cell_type": "code",
      "metadata": {
        "id": "5i2jCWqH-2Eh",
        "colab_type": "code",
        "colab": {}
      },
      "source": [
        "mcp_save = ModelCheckpoint('best_model_cnn_mel-spec.hdf5', \n",
        "                           save_best_only=True, \n",
        "                           monitor='val_acc', \n",
        "                           mode='max', verbose=1)\n",
        "\n",
        "history = model.fit(X_train_RGB, y_train, validation_split=0.2, \n",
        "                    shuffle = True,\n",
        "                    epochs=15, verbose=1, callbacks=[mcp_save])"
      ],
      "execution_count": 0,
      "outputs": []
    },
    {
      "cell_type": "code",
      "metadata": {
        "id": "PP59HNp6TgcC",
        "colab_type": "code",
        "colab": {}
      },
      "source": [
        ""
      ],
      "execution_count": 0,
      "outputs": []
    },
    {
      "cell_type": "code",
      "metadata": {
        "id": "P_orD8P4TggN",
        "colab_type": "code",
        "colab": {}
      },
      "source": [
        ""
      ],
      "execution_count": 0,
      "outputs": []
    },
    {
      "cell_type": "markdown",
      "metadata": {
        "id": "3fyX1bDa8Wkv",
        "colab_type": "text"
      },
      "source": [
        "# CNN"
      ]
    },
    {
      "cell_type": "code",
      "metadata": {
        "id": "bQDYkgcd8oSx",
        "colab_type": "code",
        "colab": {
          "base_uri": "https://localhost:8080/",
          "height": 350
        },
        "outputId": "161955ad-cf1f-4f34-9029-35c10f45fe34"
      },
      "source": [
        "model = keras.models.Sequential()\n",
        "\n",
        "model.add(Conv2D(32, activation='relu', \n",
        "                 kernel_size=3, kernel_regularizer=l2(), \n",
        "                 strides=1, input_shape=(128,max_dim, 1)))\n",
        "\n",
        "model.add(Conv2D(3, kernel_size=(13, 10), strides=1, activation=\"relu\"))\n",
        "\n",
        "model.add(Conv2D(15, kernel_size=(1, 10), strides=1, activation=\"relu\"))\n",
        "\n",
        "model.add(Conv2D(65, kernel_size=(1, 10), strides=1, activation=\"relu\"))\n",
        "\n",
        "\n",
        "model.add(Flatten())\n",
        "\n",
        "model.add(Dense(8, activation=\"softmax\"))\n",
        "\n",
        "model.summary()"
      ],
      "execution_count": 47,
      "outputs": [
        {
          "output_type": "stream",
          "text": [
            "Model: \"sequential\"\n",
            "_________________________________________________________________\n",
            "Layer (type)                 Output Shape              Param #   \n",
            "=================================================================\n",
            "conv2d (Conv2D)              (None, 126, 645, 32)      320       \n",
            "_________________________________________________________________\n",
            "conv2d_1 (Conv2D)            (None, 114, 636, 3)       12483     \n",
            "_________________________________________________________________\n",
            "conv2d_2 (Conv2D)            (None, 114, 627, 15)      465       \n",
            "_________________________________________________________________\n",
            "conv2d_3 (Conv2D)            (None, 114, 618, 65)      9815      \n",
            "_________________________________________________________________\n",
            "flatten (Flatten)            (None, 4579380)           0         \n",
            "_________________________________________________________________\n",
            "dense (Dense)                (None, 8)                 36635048  \n",
            "=================================================================\n",
            "Total params: 36,658,131\n",
            "Trainable params: 36,658,131\n",
            "Non-trainable params: 0\n",
            "_________________________________________________________________\n"
          ],
          "name": "stdout"
        }
      ]
    },
    {
      "cell_type": "code",
      "metadata": {
        "id": "ufJe7--wXLYF",
        "colab_type": "code",
        "colab": {}
      },
      "source": [
        "optimizer = keras.optimizers.SGD(1e-3)\n",
        "\n",
        "model.compile(optimizer=optimizer, \n",
        "              loss=tf.keras.losses.CategoricalCrossentropy(), \n",
        "              metrics=['acc'])"
      ],
      "execution_count": 0,
      "outputs": []
    },
    {
      "cell_type": "code",
      "metadata": {
        "id": "ezdywKzHXLba",
        "colab_type": "code",
        "colab": {
          "base_uri": "https://localhost:8080/",
          "height": 1000
        },
        "outputId": "c09e7d2e-235b-47ff-bdb7-1e6ece6f7b45"
      },
      "source": [
        "mcp_save = ModelCheckpoint('best_model_cnn_mel-spec.hdf5', \n",
        "                           save_best_only=True, \n",
        "                           monitor='val_acc', \n",
        "                           mode='max', verbose=1)\n",
        "\n",
        "history = model.fit(X_train, y_train, validation_split=0.1, \n",
        "                    shuffle = True,\n",
        "                    epochs=15, verbose=1, callbacks=[mcp_save])"
      ],
      "execution_count": 49,
      "outputs": [
        {
          "output_type": "stream",
          "text": [
            "Epoch 1/15\n",
            "180/180 [==============================] - ETA: 0s - loss: 2.0925 - acc: 0.1338\n",
            "Epoch 00001: val_acc improved from -inf to 0.13750, saving model to best_model_cnn_mel-spec.hdf5\n",
            "180/180 [==============================] - 60s 331ms/step - loss: 2.0925 - acc: 0.1338 - val_loss: 2.0805 - val_acc: 0.1375\n",
            "Epoch 2/15\n",
            "180/180 [==============================] - ETA: 0s - loss: 2.0592 - acc: 0.1676\n",
            "Epoch 00002: val_acc improved from 0.13750 to 0.16719, saving model to best_model_cnn_mel-spec.hdf5\n",
            "180/180 [==============================] - 58s 322ms/step - loss: 2.0592 - acc: 0.1676 - val_loss: 2.0394 - val_acc: 0.1672\n",
            "Epoch 3/15\n",
            "180/180 [==============================] - ETA: 0s - loss: 1.9855 - acc: 0.2352\n",
            "Epoch 00003: val_acc improved from 0.16719 to 0.25156, saving model to best_model_cnn_mel-spec.hdf5\n",
            "180/180 [==============================] - 58s 322ms/step - loss: 1.9855 - acc: 0.2352 - val_loss: 1.9682 - val_acc: 0.2516\n",
            "Epoch 4/15\n",
            "180/180 [==============================] - ETA: 0s - loss: 1.9515 - acc: 0.2564\n",
            "Epoch 00004: val_acc improved from 0.25156 to 0.35625, saving model to best_model_cnn_mel-spec.hdf5\n",
            "180/180 [==============================] - 58s 322ms/step - loss: 1.9515 - acc: 0.2564 - val_loss: 1.8651 - val_acc: 0.3562\n",
            "Epoch 5/15\n",
            "180/180 [==============================] - ETA: 0s - loss: 1.9031 - acc: 0.2878\n",
            "Epoch 00005: val_acc did not improve from 0.35625\n",
            "180/180 [==============================] - 58s 320ms/step - loss: 1.9031 - acc: 0.2878 - val_loss: 1.8785 - val_acc: 0.3453\n",
            "Epoch 6/15\n",
            "180/180 [==============================] - ETA: 0s - loss: 1.8735 - acc: 0.3024\n",
            "Epoch 00006: val_acc did not improve from 0.35625\n",
            "180/180 [==============================] - 58s 320ms/step - loss: 1.8735 - acc: 0.3024 - val_loss: 1.9111 - val_acc: 0.3031\n",
            "Epoch 7/15\n",
            "180/180 [==============================] - ETA: 0s - loss: 1.8404 - acc: 0.3222\n",
            "Epoch 00007: val_acc did not improve from 0.35625\n",
            "180/180 [==============================] - 58s 321ms/step - loss: 1.8404 - acc: 0.3222 - val_loss: 1.8279 - val_acc: 0.3359\n",
            "Epoch 8/15\n",
            "180/180 [==============================] - ETA: 0s - loss: 1.7997 - acc: 0.3486\n",
            "Epoch 00008: val_acc did not improve from 0.35625\n",
            "180/180 [==============================] - 58s 321ms/step - loss: 1.7997 - acc: 0.3486 - val_loss: 1.8681 - val_acc: 0.3531\n",
            "Epoch 9/15\n",
            "180/180 [==============================] - ETA: 0s - loss: 1.7425 - acc: 0.3679\n",
            "Epoch 00009: val_acc did not improve from 0.35625\n",
            "180/180 [==============================] - 58s 321ms/step - loss: 1.7425 - acc: 0.3679 - val_loss: 1.8897 - val_acc: 0.3172\n",
            "Epoch 10/15\n",
            "180/180 [==============================] - ETA: 0s - loss: 1.6949 - acc: 0.4004\n",
            "Epoch 00010: val_acc did not improve from 0.35625\n",
            "180/180 [==============================] - 58s 320ms/step - loss: 1.6949 - acc: 0.4004 - val_loss: 1.8759 - val_acc: 0.3406\n",
            "Epoch 11/15\n",
            "180/180 [==============================] - ETA: 0s - loss: 1.6282 - acc: 0.4240\n",
            "Epoch 00011: val_acc improved from 0.35625 to 0.39062, saving model to best_model_cnn_mel-spec.hdf5\n",
            "180/180 [==============================] - 58s 322ms/step - loss: 1.6282 - acc: 0.4240 - val_loss: 1.7503 - val_acc: 0.3906\n",
            "Epoch 12/15\n",
            "180/180 [==============================] - ETA: 0s - loss: 1.5693 - acc: 0.4492\n",
            "Epoch 00012: val_acc improved from 0.39062 to 0.40625, saving model to best_model_cnn_mel-spec.hdf5\n",
            "180/180 [==============================] - 58s 322ms/step - loss: 1.5693 - acc: 0.4492 - val_loss: 1.7069 - val_acc: 0.4062\n",
            "Epoch 13/15\n",
            "180/180 [==============================] - ETA: 0s - loss: 1.5085 - acc: 0.4777\n",
            "Epoch 00013: val_acc did not improve from 0.40625\n",
            "180/180 [==============================] - 58s 320ms/step - loss: 1.5085 - acc: 0.4777 - val_loss: 1.7050 - val_acc: 0.4031\n",
            "Epoch 14/15\n",
            "180/180 [==============================] - ETA: 0s - loss: 1.4366 - acc: 0.5067\n",
            "Epoch 00014: val_acc did not improve from 0.40625\n",
            "180/180 [==============================] - 58s 320ms/step - loss: 1.4366 - acc: 0.5067 - val_loss: 1.7142 - val_acc: 0.3844\n",
            "Epoch 15/15\n",
            "180/180 [==============================] - ETA: 0s - loss: 1.3710 - acc: 0.5310\n",
            "Epoch 00015: val_acc did not improve from 0.40625\n",
            "180/180 [==============================] - 58s 321ms/step - loss: 1.3710 - acc: 0.5310 - val_loss: 1.6878 - val_acc: 0.4031\n"
          ],
          "name": "stdout"
        }
      ]
    },
    {
      "cell_type": "code",
      "metadata": {
        "id": "eQBsm918XLmS",
        "colab_type": "code",
        "colab": {
          "base_uri": "https://localhost:8080/",
          "height": 336
        },
        "outputId": "59b2ac92-6435-40e3-e2dd-2e49f1cdf72f"
      },
      "source": [
        "plot_history(history)"
      ],
      "execution_count": 50,
      "outputs": [
        {
          "output_type": "display_data",
          "data": {
            "image/png": "[encoded data removed]",
            "text/plain": [
              "<Figure size 864x360 with 2 Axes>"
            ]
          },
          "metadata": {
            "tags": [],
            "needs_background": "light"
          }
        }
      ]
    },
    {
      "cell_type": "code",
      "metadata": {
        "id": "lOt0nh_-oBT4",
        "colab_type": "code",
        "colab": {
          "base_uri": "https://localhost:8080/",
          "height": 117
        },
        "outputId": "76b7b8d3-b8f9-4eb6-b336-069cdbe9877c"
      },
      "source": [
        "best_model = load_model('best_model_cnn_mel-spec.hdf5')\n",
        "print(\"Train:\")\n",
        "print(best_model.evaluate(X_train, y_train, verbose=2))\n",
        "print(\"Val:\")\n",
        "print(best_model.evaluate(X_val, y_val, verbose=2))"
      ],
      "execution_count": 51,
      "outputs": [
        {
          "output_type": "stream",
          "text": [
            "Train:\n",
            "200/200 - 15s - loss: 1.4975 - acc: 0.4916\n",
            "[1.4974526166915894, 0.4916366934776306]\n",
            "Val:\n",
            "25/25 - 2s - loss: 1.6951 - acc: 0.3775\n",
            "[1.6951380968093872, 0.3774999976158142]\n"
          ],
          "name": "stdout"
        }
      ]
    },
    {
      "cell_type": "code",
      "metadata": {
        "id": "f1aeL-ahnZK4",
        "colab_type": "code",
        "colab": {}
      },
      "source": [
        "dict_genres = {'Electronic':0, 'Experimental':1, 'Folk':2, 'Hip-Hop':3, \n",
        "               'Instrumental':4,'International':5, 'Pop' :6, 'Rock': 7  }"
      ],
      "execution_count": 0,
      "outputs": []
    },
    {
      "cell_type": "code",
      "metadata": {
        "id": "5VNkdwz3qBaC",
        "colab_type": "code",
        "colab": {
          "base_uri": "https://localhost:8080/",
          "height": 33
        },
        "outputId": "f6f73475-ea8e-49c7-f60b-35c6e11bca66"
      },
      "source": [
        "from sklearn.metrics import classification_report\n",
        "\n",
        "#y_val = np.argmax(y_val, axis = 1)\n",
        "y_pred = model.predict_classes(X_val)\n",
        "#y_pred = np.argmax(y_pred, axis=1)\n",
        "labels = [0,1,2,3,4,5,6,7]\n",
        "target_names = dict_genres.keys()\n",
        "\n",
        "print(y_val.shape, y_pred.shape)"
      ],
      "execution_count": 62,
      "outputs": [
        {
          "output_type": "stream",
          "text": [
            "(800,) (800,)\n"
          ],
          "name": "stdout"
        }
      ]
    },
    {
      "cell_type": "code",
      "metadata": {
        "id": "AdJV-MxPq_7R",
        "colab_type": "code",
        "colab": {}
      },
      "source": [
        ""
      ],
      "execution_count": 0,
      "outputs": []
    },
    {
      "cell_type": "code",
      "metadata": {
        "id": "DZw7Wsarrnw6",
        "colab_type": "code",
        "colab": {
          "base_uri": "https://localhost:8080/",
          "height": 553
        },
        "outputId": "11e5bef5-d952-48ad-89f4-b96188ec4bd9"
      },
      "source": [
        "from sklearn.metrics import confusion_matrix\n",
        "import seaborn as sns\n",
        "\n",
        "mat = confusion_matrix(y_val, y_pred)\n",
        "plt.figure(figsize=(8,8))\n",
        "sns.heatmap(mat.T, square=True, annot=True, fmt='d', cbar=False,\n",
        "            cmap=sns.cubehelix_palette(8, start=.5, rot=-.75),\n",
        "            xticklabels=dict_genres.keys(),\n",
        "            yticklabels=dict_genres.keys())\n",
        "plt.xlabel('true label')\n",
        "plt.ylabel('predicted label');"
      ],
      "execution_count": 72,
      "outputs": [
        {
          "output_type": "display_data",
          "data": {
            "image/png": "[encoded data removed]",
            "text/plain": [
              "<Figure size 576x576 with 1 Axes>"
            ]
          },
          "metadata": {
            "tags": [],
            "needs_background": "light"
          }
        }
      ]
    },
    {
      "cell_type": "markdown",
      "metadata": {
        "id": "w-pPksUSuQi9",
        "colab_type": "text"
      },
      "source": [
        "### Test"
      ]
    },
    {
      "cell_type": "code",
      "metadata": {
        "id": "ifbcvy2zrn7k",
        "colab_type": "code",
        "colab": {
          "base_uri": "https://localhost:8080/",
          "height": 33
        },
        "outputId": "6f9de6ca-e2ae-4159-a29c-4fc08ae1329d"
      },
      "source": [
        "from sklearn.metrics import classification_report\n",
        "\n",
        "y_pred = model.predict_classes(X_test)\n",
        "labels = [0,1,2,3,4,5,6,7]\n",
        "target_names = dict_genres.keys()\n",
        "\n",
        "print(y_test.shape, y_pred.shape)"
      ],
      "execution_count": 82,
      "outputs": [
        {
          "output_type": "stream",
          "text": [
            "(800, 8) (800,)\n"
          ],
          "name": "stdout"
        }
      ]
    },
    {
      "cell_type": "code",
      "metadata": {
        "id": "sx26A9m5rn-k",
        "colab_type": "code",
        "colab": {
          "base_uri": "https://localhost:8080/",
          "height": 267
        },
        "outputId": "b35f622a-6cbf-4160-ac4d-dbdc1a5bb415"
      },
      "source": [
        "print(classification_report(y_val, y_pred, target_names=target_names))"
      ],
      "execution_count": 83,
      "outputs": [
        {
          "output_type": "stream",
          "text": [
            "               precision    recall  f1-score   support\n",
            "\n",
            "   Electronic       0.13      0.19      0.15       100\n",
            " Experimental       0.12      0.12      0.12       100\n",
            "         Folk       0.13      0.17      0.15       100\n",
            "      Hip-Hop       0.02      0.02      0.02       100\n",
            " Instrumental       0.12      0.07      0.09       100\n",
            "International       0.15      0.10      0.12       100\n",
            "          Pop       0.14      0.18      0.16       100\n",
            "         Rock       0.14      0.10      0.12       100\n",
            "\n",
            "     accuracy                           0.12       800\n",
            "    macro avg       0.12      0.12      0.12       800\n",
            " weighted avg       0.12      0.12      0.12       800\n",
            "\n"
          ],
          "name": "stdout"
        }
      ]
    },
    {
      "cell_type": "code",
      "metadata": {
        "id": "P72QNszHu51c",
        "colab_type": "code",
        "colab": {
          "base_uri": "https://localhost:8080/",
          "height": 133
        },
        "outputId": "ce86cd04-33c1-4765-f24b-e88716a6726b"
      },
      "source": [
        "y_test"
      ],
      "execution_count": 87,
      "outputs": [
        {
          "output_type": "execute_result",
          "data": {
            "text/plain": [
              "array([[0, 0, 0, ..., 0, 0, 1],\n",
              "       [0, 0, 0, ..., 1, 0, 0],\n",
              "       [0, 0, 0, ..., 1, 0, 0],\n",
              "       ...,\n",
              "       [0, 0, 0, ..., 0, 0, 0],\n",
              "       [0, 0, 0, ..., 0, 0, 0],\n",
              "       [0, 0, 0, ..., 0, 0, 0]], dtype=int32)"
            ]
          },
          "metadata": {
            "tags": []
          },
          "execution_count": 87
        }
      ]
    },
    {
      "cell_type": "code",
      "metadata": {
        "id": "NflRMnVRvPnQ",
        "colab_type": "code",
        "colab": {
          "base_uri": "https://localhost:8080/",
          "height": 133
        },
        "outputId": "18db084d-7cd7-451b-8280-a4df17d41095"
      },
      "source": [
        "y_val"
      ],
      "execution_count": 89,
      "outputs": [
        {
          "output_type": "execute_result",
          "data": {
            "text/plain": [
              "array([[0, 1, 0, ..., 0, 0, 0],\n",
              "       [0, 0, 0, ..., 0, 0, 1],\n",
              "       [0, 0, 1, ..., 0, 0, 0],\n",
              "       ...,\n",
              "       [0, 1, 0, ..., 0, 0, 0],\n",
              "       [0, 0, 0, ..., 1, 0, 0],\n",
              "       [0, 0, 0, ..., 0, 0, 1]], dtype=int32)"
            ]
          },
          "metadata": {
            "tags": []
          },
          "execution_count": 89
        }
      ]
    },
    {
      "cell_type": "code",
      "metadata": {
        "id": "sCoT8r9uumnK",
        "colab_type": "code",
        "colab": {
          "base_uri": "https://localhost:8080/",
          "height": 369
        },
        "outputId": "c2fb8a3e-3c31-4838-9791-c6a7adcd53ce"
      },
      "source": [
        "from sklearn.metrics import confusion_matrix\n",
        "import seaborn as sns\n",
        "\n",
        "mat = confusion_matrix(y_test, y_pred)\n",
        "plt.figure(figsize=(8,8))\n",
        "sns.heatmap(mat.T, square=True, annot=True, fmt='d', cbar=False,\n",
        "            cmap=sns.cubehelix_palette(8, start=.5, rot=-.75),\n",
        "            xticklabels=dict_genres.keys(),\n",
        "            yticklabels=dict_genres.keys())\n",
        "plt.xlabel('true label')\n",
        "plt.ylabel('predicted label');"
      ],
      "execution_count": 90,
      "outputs": [
        {
          "output_type": "error",
          "ename": "ValueError",
          "evalue": "ignored",
          "traceback": [
            "\u001b[0;31m---------------------------------------------------------------------------\u001b[0m",
            "\u001b[0;31mValueError\u001b[0m                                Traceback (most recent call last)",
            "\u001b[0;32m<ipython-input-90-d05da94abb37>\u001b[0m in \u001b[0;36m<module>\u001b[0;34m()\u001b[0m\n\u001b[1;32m      2\u001b[0m \u001b[0;32mimport\u001b[0m \u001b[0mseaborn\u001b[0m \u001b[0;32mas\u001b[0m \u001b[0msns\u001b[0m\u001b[0;34m\u001b[0m\u001b[0;34m\u001b[0m\u001b[0m\n\u001b[1;32m      3\u001b[0m \u001b[0;34m\u001b[0m\u001b[0m\n\u001b[0;32m----> 4\u001b[0;31m \u001b[0mmat\u001b[0m \u001b[0;34m=\u001b[0m \u001b[0mconfusion_matrix\u001b[0m\u001b[0;34m(\u001b[0m\u001b[0my_test\u001b[0m\u001b[0;34m,\u001b[0m \u001b[0my_pred\u001b[0m\u001b[0;34m)\u001b[0m\u001b[0;34m\u001b[0m\u001b[0;34m\u001b[0m\u001b[0m\n\u001b[0m\u001b[1;32m      5\u001b[0m \u001b[0mplt\u001b[0m\u001b[0;34m.\u001b[0m\u001b[0mfigure\u001b[0m\u001b[0;34m(\u001b[0m\u001b[0mfigsize\u001b[0m\u001b[0;34m=\u001b[0m\u001b[0;34m(\u001b[0m\u001b[0;36m8\u001b[0m\u001b[0;34m,\u001b[0m\u001b[0;36m8\u001b[0m\u001b[0;34m)\u001b[0m\u001b[0;34m)\u001b[0m\u001b[0;34m\u001b[0m\u001b[0;34m\u001b[0m\u001b[0m\n\u001b[1;32m      6\u001b[0m sns.heatmap(mat.T, square=True, annot=True, fmt='d', cbar=False,\n",
            "\u001b[0;32m/usr/local/lib/python3.6/dist-packages/sklearn/metrics/_classification.py\u001b[0m in \u001b[0;36mconfusion_matrix\u001b[0;34m(y_true, y_pred, labels, sample_weight, normalize)\u001b[0m\n\u001b[1;32m    266\u001b[0m \u001b[0;34m\u001b[0m\u001b[0m\n\u001b[1;32m    267\u001b[0m     \"\"\"\n\u001b[0;32m--> 268\u001b[0;31m     \u001b[0my_type\u001b[0m\u001b[0;34m,\u001b[0m \u001b[0my_true\u001b[0m\u001b[0;34m,\u001b[0m \u001b[0my_pred\u001b[0m \u001b[0;34m=\u001b[0m \u001b[0m_check_targets\u001b[0m\u001b[0;34m(\u001b[0m\u001b[0my_true\u001b[0m\u001b[0;34m,\u001b[0m \u001b[0my_pred\u001b[0m\u001b[0;34m)\u001b[0m\u001b[0;34m\u001b[0m\u001b[0;34m\u001b[0m\u001b[0m\n\u001b[0m\u001b[1;32m    269\u001b[0m     \u001b[0;32mif\u001b[0m \u001b[0my_type\u001b[0m \u001b[0;32mnot\u001b[0m \u001b[0;32min\u001b[0m \u001b[0;34m(\u001b[0m\u001b[0;34m\"binary\"\u001b[0m\u001b[0;34m,\u001b[0m \u001b[0;34m\"multiclass\"\u001b[0m\u001b[0;34m)\u001b[0m\u001b[0;34m:\u001b[0m\u001b[0;34m\u001b[0m\u001b[0;34m\u001b[0m\u001b[0m\n\u001b[1;32m    270\u001b[0m         \u001b[0;32mraise\u001b[0m \u001b[0mValueError\u001b[0m\u001b[0;34m(\u001b[0m\u001b[0;34m\"%s is not supported\"\u001b[0m \u001b[0;34m%\u001b[0m \u001b[0my_type\u001b[0m\u001b[0;34m)\u001b[0m\u001b[0;34m\u001b[0m\u001b[0;34m\u001b[0m\u001b[0m\n",
            "\u001b[0;32m/usr/local/lib/python3.6/dist-packages/sklearn/metrics/_classification.py\u001b[0m in \u001b[0;36m_check_targets\u001b[0;34m(y_true, y_pred)\u001b[0m\n\u001b[1;32m     88\u001b[0m     \u001b[0;32mif\u001b[0m \u001b[0mlen\u001b[0m\u001b[0;34m(\u001b[0m\u001b[0my_type\u001b[0m\u001b[0;34m)\u001b[0m \u001b[0;34m>\u001b[0m \u001b[0;36m1\u001b[0m\u001b[0;34m:\u001b[0m\u001b[0;34m\u001b[0m\u001b[0;34m\u001b[0m\u001b[0m\n\u001b[1;32m     89\u001b[0m         raise ValueError(\"Classification metrics can't handle a mix of {0} \"\n\u001b[0;32m---> 90\u001b[0;31m                          \"and {1} targets\".format(type_true, type_pred))\n\u001b[0m\u001b[1;32m     91\u001b[0m \u001b[0;34m\u001b[0m\u001b[0m\n\u001b[1;32m     92\u001b[0m     \u001b[0;31m# We can't have more than one value on y_type => The set is no more needed\u001b[0m\u001b[0;34m\u001b[0m\u001b[0;34m\u001b[0m\u001b[0;34m\u001b[0m\u001b[0m\n",
            "\u001b[0;31mValueError\u001b[0m: Classification metrics can't handle a mix of multilabel-indicator and multiclass targets"
          ]
        }
      ]
    },
    {
      "cell_type": "code",
      "metadata": {
        "id": "QVESfdE2umuF",
        "colab_type": "code",
        "colab": {}
      },
      "source": [
        ""
      ],
      "execution_count": 0,
      "outputs": []
    },
    {
      "cell_type": "code",
      "metadata": {
        "id": "TfTPs2U4umw1",
        "colab_type": "code",
        "colab": {}
      },
      "source": [
        ""
      ],
      "execution_count": 0,
      "outputs": []
    },
    {
      "cell_type": "code",
      "metadata": {
        "id": "Xe49AzcTumr2",
        "colab_type": "code",
        "colab": {}
      },
      "source": [
        ""
      ],
      "execution_count": 0,
      "outputs": []
    },
    {
      "cell_type": "code",
      "metadata": {
        "id": "dF9GCT6kdNhB",
        "colab_type": "code",
        "colab": {}
      },
      "source": [
        "from sklearn.metrics import classification_report\n",
        "\n",
        "y_test = np.argmax(y_valid, axis = 1)\n",
        "y_pred = model.predict(X_valid)\n",
        "y_pred = np.argmax(y_pred, axis=1)\n",
        "labels = [0,1,2,3,4,5,6,7]\n",
        "target_names = dict_genres.keys()\n",
        "\n",
        "print(y_test.shape, y_pred.shape)\n",
        "print(classification_report(y_true, y_pred, target_names=target_names))"
      ],
      "execution_count": 0,
      "outputs": []
    },
    {
      "cell_type": "code",
      "metadata": {
        "id": "0Gig7VtJrhqZ",
        "colab_type": "code",
        "colab": {}
      },
      "source": [
        ""
      ],
      "execution_count": 0,
      "outputs": []
    },
    {
      "cell_type": "code",
      "metadata": {
        "id": "XLWXRrxKdNj3",
        "colab_type": "code",
        "colab": {}
      },
      "source": [
        "from sklearn.metrics import accuracy_score\n",
        "\n",
        "print(accuracy_score(y_test, y_pred))"
      ],
      "execution_count": 0,
      "outputs": []
    },
    {
      "cell_type": "code",
      "metadata": {
        "id": "DEb28zrudylc",
        "colab_type": "code",
        "colab": {}
      },
      "source": [
        "from sklearn.metrics import confusion_matrix\n",
        "\n",
        "print(confusion_matrix(y_test, y_pred))"
      ],
      "execution_count": 0,
      "outputs": []
    },
    {
      "cell_type": "code",
      "metadata": {
        "id": "kZdOOk3udyoW",
        "colab_type": "code",
        "colab": {}
      },
      "source": [
        "from sklearn.metrics import confusion_matrix\n",
        "import seaborn as sns\n",
        "\n",
        "mat = confusion_matrix(y_test, y_pred)\n",
        "sns.heatmap(mat.T, square=True, annot=True, fmt='d', cbar=False,\n",
        "            xticklabels=dict_genres.keys(),\n",
        "            yticklabels=dict_genres.keys())\n",
        "plt.xlabel('true label')\n",
        "plt.ylabel('predicted label');"
      ],
      "execution_count": 0,
      "outputs": []
    },
    {
      "cell_type": "code",
      "metadata": {
        "id": "GvjLldZcdyrZ",
        "colab_type": "code",
        "colab": {}
      },
      "source": [
        "from sklearn.metrics import roc_curve\n",
        "from sklearn.metrics import roc_auc_score\n",
        "\n",
        "# Compute ROC curve and ROC area for each class\n",
        "fpr = dict()\n",
        "tpr = dict()\n",
        "roc_auc = dict()\n",
        "for i in range(8):\n",
        "    fpr[i], tpr[i], _ = roc_curve(y_test[:, i], y_pred[:, i])\n",
        "    roc_auc[i] = auc(fpr[i], tpr[i])\n",
        "\n",
        "# Compute micro-average ROC curve and ROC area\n",
        "fpr[\"micro\"], tpr[\"micro\"], _ = roc_curve(y_test.ravel(), y_pred.ravel())\n",
        "roc_auc[\"micro\"] = auc(fpr[\"micro\"], tpr[\"micro\"])"
      ],
      "execution_count": 0,
      "outputs": []
    },
    {
      "cell_type": "code",
      "metadata": {
        "id": "Hp_eZsEGnTDE",
        "colab_type": "code",
        "colab": {}
      },
      "source": [
        ""
      ],
      "execution_count": 0,
      "outputs": []
    },
    {
      "cell_type": "code",
      "metadata": {
        "id": "zesAAHwFnTF-",
        "colab_type": "code",
        "colab": {}
      },
      "source": [
        ""
      ],
      "execution_count": 0,
      "outputs": []
    },
    {
      "cell_type": "code",
      "metadata": {
        "id": "XrL169TrnTJU",
        "colab_type": "code",
        "colab": {}
      },
      "source": [
        ""
      ],
      "execution_count": 0,
      "outputs": []
    }
  ]
}