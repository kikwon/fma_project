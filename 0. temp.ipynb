{
  "nbformat": 4,
  "nbformat_minor": 0,
  "metadata": {
    "colab": {
      "name": "Deep_Learning_Project.ipynb",
      "provenance": [],
      "collapsed_sections": [],
      "authorship_tag": "ABX9TyN77Sm9Mr96pNe2pg+Q7rW4",
      "include_colab_link": true
    },
    "kernelspec": {
      "name": "python3",
      "display_name": "Python 3"
    }
  },
  "cells": [
    {
      "cell_type": "markdown",
      "metadata": {
        "id": "view-in-github",
        "colab_type": "text"
      },
      "source": [
        "<a href=\"https://colab.research.google.com/github/kikwon/fma_project/blob/master/0.%20temp.ipynb\" target=\"_parent\"><img src=\"https://colab.research.google.com/assets/colab-badge.svg\" alt=\"Open In Colab\"/></a>"
      ]
    },
    {
      "cell_type": "markdown",
      "metadata": {
        "id": "TeAZfCgMhr0x",
        "colab_type": "text"
      },
      "source": [
        "# Deep Learning Project"
      ]
    },
    {
      "cell_type": "code",
      "metadata": {
        "id": "Ejys3hCxhAww",
        "colab_type": "code",
        "outputId": "c2684fde-1dd6-4343-d85c-14e7adefffde",
        "colab": {
          "base_uri": "https://localhost:8080/",
          "height": 35
        }
      },
      "source": [
        "print(\"This is the final project.\")"
      ],
      "execution_count": 0,
      "outputs": [
        {
          "output_type": "stream",
          "text": [
            "This is the final project.\n"
          ],
          "name": "stdout"
        }
      ]
    },
    {
      "cell_type": "code",
      "metadata": {
        "id": "7-6K7SBEuBvW",
        "colab_type": "code",
        "outputId": "8e947b76-4616-4437-cdb9-f64cf7b4207c",
        "colab": {
          "base_uri": "https://localhost:8080/",
          "height": 34
        }
      },
      "source": [
        "print(\"check linking\")"
      ],
      "execution_count": 0,
      "outputs": [
        {
          "output_type": "stream",
          "text": [
            "check linking\n"
          ],
          "name": "stdout"
        }
      ]
    }
  ]
}