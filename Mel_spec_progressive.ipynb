{
  "nbformat": 4,
  "nbformat_minor": 0,
  "metadata": {
    "colab": {
      "name": "Mel-spec-progressive.ipynb",
      "provenance": [],
      "collapsed_sections": [
        "8cLCiF5PI3xy",
        "MbS66N04I_wT",
        "qb_monZFG1qH",
        "ZwHeA2ATYYUp",
        "ChVDKENgZRb8"
      ],
      "machine_shape": "hm"
    },
    "kernelspec": {
      "name": "python3",
      "display_name": "Python 3"
    },
    "accelerator": "GPU"
  },
  "cells": [
    {
      "cell_type": "markdown",
      "metadata": {
        "id": "8cLCiF5PI3xy",
        "colab_type": "text"
      },
      "source": [
        "### Feature Engineering 42x100"
      ]
    },
    {
      "cell_type": "code",
      "metadata": {
        "id": "cUyIl8-B3mEU",
        "colab_type": "code",
        "colab": {}
      },
      "source": [
        "import pandas as pd\n",
        "import pickle\n",
        "import numpy as np\n",
        "from sklearn.preprocessing import LabelEncoder\n",
        "import tensorflow as tf\n",
        "import keras\n",
        "from keras.layers import Dense, Conv2D, MaxPool2D, Flatten, Dropout, BatchNormalization, Activation\n",
        "from keras.callbacks import ModelCheckpoint\n",
        "from keras.models import load_model\n",
        "import matplotlib.pyplot as plt\n",
        "import gc\n",
        "import librosa"
      ],
      "execution_count": 0,
      "outputs": []
    },
    {
      "cell_type": "code",
      "metadata": {
        "id": "Mv2uW8543vCu",
        "colab_type": "code",
        "outputId": "13593d7d-e41e-4114-e631-cd756380a0cb",
        "colab": {
          "base_uri": "https://localhost:8080/",
          "height": 34
        }
      },
      "source": [
        "from google.colab import drive\n",
        "drive.mount('/content/drive')"
      ],
      "execution_count": 91,
      "outputs": [
        {
          "output_type": "stream",
          "text": [
            "Drive already mounted at /content/drive; to attempt to forcibly remount, call drive.mount(\"/content/drive\", force_remount=True).\n"
          ],
          "name": "stdout"
        }
      ]
    },
    {
      "cell_type": "code",
      "metadata": {
        "id": "Otpz3PwG35YQ",
        "colab_type": "code",
        "colab": {}
      },
      "source": [
        "import os\n",
        "os.chdir('/content/drive/My Drive')"
      ],
      "execution_count": 0,
      "outputs": []
    },
    {
      "cell_type": "code",
      "metadata": {
        "id": "Ym2weL743mEY",
        "colab_type": "code",
        "outputId": "b0907583-6958-4ec9-c620-2ebd7a577fdb",
        "colab": {
          "base_uri": "https://localhost:8080/",
          "height": 71
        }
      },
      "source": [
        "tracks = pd.read_csv('tracks.csv')\n",
        "tracks.columns = tracks.iloc[0]\n",
        "tracks = tracks.drop([0, 1])\n",
        "new_cols = tracks.columns.values\n",
        "new_cols[0] = 'track_id'\n",
        "tracks.columns = new_cols\n",
        "tracks = tracks.reset_index(drop=True)"
      ],
      "execution_count": 93,
      "outputs": [
        {
          "output_type": "stream",
          "text": [
            "/usr/local/lib/python3.6/dist-packages/IPython/core/interactiveshell.py:2718: DtypeWarning: Columns (0,1,5,6,8,12,18,20,21,22,24,33,34,38,39,44,47,49) have mixed types.Specify dtype option on import or set low_memory=False.\n",
            "  interactivity=interactivity, compiler=compiler, result=result)\n"
          ],
          "name": "stderr"
        }
      ]
    },
    {
      "cell_type": "code",
      "metadata": {
        "id": "YKItAgK93mEb",
        "colab_type": "code",
        "outputId": "62d50b54-c496-4756-9337-5b14d67971d3",
        "colab": {
          "base_uri": "https://localhost:8080/",
          "height": 238
        }
      },
      "source": [
        "mfcc = pickle.load(open('mel-spec.pkl', 'rb'))\n",
        "gc.collect()\n",
        "mfcc[0]"
      ],
      "execution_count": 94,
      "outputs": [
        {
          "output_type": "execute_result",
          "data": {
            "text/plain": [
              "array([[-65.062225, -47.759476, -44.176395, ..., -39.408173, -41.73693 ,\n",
              "        -29.414968],\n",
              "       [-65.40291 , -52.760864, -49.179825, ..., -16.405546, -16.314037,\n",
              "        -17.623047],\n",
              "       [-69.48193 , -56.67646 , -50.5069  , ..., -16.358839, -16.07241 ,\n",
              "        -18.654762],\n",
              "       ...,\n",
              "       [-79.42308 , -59.74297 , -36.38287 , ..., -46.371128, -42.364655,\n",
              "        -50.543457],\n",
              "       [-80.      , -63.4197  , -41.733234, ..., -50.3838  , -46.90663 ,\n",
              "        -58.020092],\n",
              "       [-80.      , -73.82068 , -52.945995, ..., -63.188034, -56.469955,\n",
              "        -67.65623 ]], dtype=float32)"
            ]
          },
          "metadata": {
            "tags": []
          },
          "execution_count": 94
        }
      ]
    },
    {
      "cell_type": "code",
      "metadata": {
        "id": "N_z_5zqP3mEd",
        "colab_type": "code",
        "outputId": "edaad13b-3dc2-4529-84ff-ffc9d85e40e5",
        "colab": {
          "base_uri": "https://localhost:8080/",
          "height": 34
        }
      },
      "source": [
        "mfcc[0].shape"
      ],
      "execution_count": 95,
      "outputs": [
        {
          "output_type": "execute_result",
          "data": {
            "text/plain": [
              "(128, 646)"
            ]
          },
          "metadata": {
            "tags": []
          },
          "execution_count": 95
        }
      ]
    },
    {
      "cell_type": "code",
      "metadata": {
        "id": "NMylsb4E3mEg",
        "colab_type": "code",
        "colab": {}
      },
      "source": [
        "mfcc_df = pd.DataFrame(mfcc)\n",
        "index_nan = np.argwhere(pd.isnull(mfcc))"
      ],
      "execution_count": 0,
      "outputs": []
    },
    {
      "cell_type": "code",
      "metadata": {
        "id": "rZ4qY24G3mEi",
        "colab_type": "code",
        "outputId": "6f7379af-52bb-4750-9171-fcd7abf66a19",
        "colab": {
          "base_uri": "https://localhost:8080/",
          "height": 34
        }
      },
      "source": [
        "mfcc_df = mfcc_df.dropna()\n",
        "mfcc = mfcc_df.to_numpy().ravel()\n",
        "\n",
        "max_dim = 0\n",
        "for i in mfcc:\n",
        "    if i.shape[1] > max_dim:\n",
        "        max_dim = i.shape[1]\n",
        "    else:\n",
        "        pass\n",
        "print(max_dim)"
      ],
      "execution_count": 97,
      "outputs": [
        {
          "output_type": "stream",
          "text": [
            "647\n"
          ],
          "name": "stdout"
        }
      ]
    },
    {
      "cell_type": "code",
      "metadata": {
        "id": "-EbAlSzC3mEk",
        "colab_type": "code",
        "colab": {}
      },
      "source": [
        "for i in range(len(mfcc)):\n",
        "    mfcc[i] = np.append(mfcc[i], np.zeros((128, max_dim - mfcc[i].shape[1])), axis=1)\n",
        "    mfcc[i] = mfcc[i][42:84, 0:100]\n",
        "    mfcc[i] = librosa.util.normalize(mfcc[i])\n",
        "    \n",
        "index_nan = index_nan.ravel()\n"
      ],
      "execution_count": 0,
      "outputs": []
    },
    {
      "cell_type": "code",
      "metadata": {
        "id": "2Kf_nA6I3mEn",
        "colab_type": "code",
        "outputId": "c4a2f655-0511-4539-eb67-d42fef099964",
        "colab": {
          "base_uri": "https://localhost:8080/",
          "height": 34
        }
      },
      "source": [
        "mfcc[4].shape"
      ],
      "execution_count": 99,
      "outputs": [
        {
          "output_type": "execute_result",
          "data": {
            "text/plain": [
              "(42, 100)"
            ]
          },
          "metadata": {
            "tags": []
          },
          "execution_count": 99
        }
      ]
    },
    {
      "cell_type": "code",
      "metadata": {
        "id": "y11i95A03mEp",
        "colab_type": "code",
        "colab": {}
      },
      "source": [
        "del mfcc_df"
      ],
      "execution_count": 0,
      "outputs": []
    },
    {
      "cell_type": "code",
      "metadata": {
        "id": "vOacTcJB3mEr",
        "colab_type": "code",
        "outputId": "189ffc4b-caaa-4af3-81d1-b6293d42d060",
        "colab": {
          "base_uri": "https://localhost:8080/",
          "height": 34
        }
      },
      "source": [
        "gc.collect()"
      ],
      "execution_count": 101,
      "outputs": [
        {
          "output_type": "execute_result",
          "data": {
            "text/plain": [
              "0"
            ]
          },
          "metadata": {
            "tags": []
          },
          "execution_count": 101
        }
      ]
    },
    {
      "cell_type": "code",
      "metadata": {
        "id": "AFqH-sX83mEt",
        "colab_type": "code",
        "colab": {}
      },
      "source": [
        "tracks = tracks.loc[tracks['subset'] == 'small']\n",
        "tracks = tracks.reset_index()\n",
        "tracks = tracks.drop(index_nan)\n",
        "tracks = tracks.reset_index()"
      ],
      "execution_count": 0,
      "outputs": []
    },
    {
      "cell_type": "code",
      "metadata": {
        "id": "B6ig-0_y3mEw",
        "colab_type": "code",
        "colab": {}
      },
      "source": [
        "y_train = tracks.loc[(tracks['split'] == 'training')]['genre_top']\n",
        "y_val = tracks.loc[(tracks['split'] == 'validation')]['genre_top']\n",
        "y_test = tracks.loc[(tracks['split'] == 'test')]['genre_top']"
      ],
      "execution_count": 0,
      "outputs": []
    },
    {
      "cell_type": "code",
      "metadata": {
        "id": "tNLNy9JW3mEy",
        "colab_type": "code",
        "outputId": "7753beef-01b5-4bc6-849a-a402aa53cc3a",
        "colab": {
          "base_uri": "https://localhost:8080/",
          "height": 221
        }
      },
      "source": [
        "index_train = y_train.index\n",
        "index_val = y_val.index\n",
        "index_test = y_test.index\n",
        "print(index_train)\n",
        "print(index_val)\n",
        "print(index_test)"
      ],
      "execution_count": 104,
      "outputs": [
        {
          "output_type": "stream",
          "text": [
            "Int64Index([   0,    1,    2,    3,    4,    7,    8,    9,   10,   11,\n",
            "            ...\n",
            "            7981, 7982, 7983, 7984, 7985, 7986, 7987, 7994, 7995, 7996],\n",
            "           dtype='int64', length=6397)\n",
            "Int64Index([   5,   23,   28,   36,   58,   70,  117,  122,  126,  127,\n",
            "            ...\n",
            "            7854, 7855, 7856, 7857, 7858, 7859, 7860, 7869, 7871, 7928],\n",
            "           dtype='int64', length=800)\n",
            "Int64Index([   6,   39,   40,   41,   42,   43,   44,   55,   56,   64,\n",
            "            ...\n",
            "            7951, 7952, 7964, 7965, 7988, 7989, 7990, 7991, 7992, 7993],\n",
            "           dtype='int64', length=800)\n"
          ],
          "name": "stdout"
        }
      ]
    },
    {
      "cell_type": "code",
      "metadata": {
        "id": "oIjZsIGi3mE1",
        "colab_type": "code",
        "outputId": "0a67c512-fdad-4c1f-eb1a-207c2a19cf22",
        "colab": {
          "base_uri": "https://localhost:8080/",
          "height": 34
        }
      },
      "source": [
        "len(y_train) + len(y_val) + len(y_test)"
      ],
      "execution_count": 105,
      "outputs": [
        {
          "output_type": "execute_result",
          "data": {
            "text/plain": [
              "7997"
            ]
          },
          "metadata": {
            "tags": []
          },
          "execution_count": 105
        }
      ]
    },
    {
      "cell_type": "code",
      "metadata": {
        "id": "gdjS-bzg3mE3",
        "colab_type": "code",
        "outputId": "b817f06a-ba16-465e-968c-bc93130fafdf",
        "colab": {
          "base_uri": "https://localhost:8080/",
          "height": 34
        }
      },
      "source": [
        "y_train = np.array(y_train)\n",
        "y_val = np.array(y_val)\n",
        "y_test = np.array(y_test)\n",
        "\n",
        "le = LabelEncoder()\n",
        "y_train = le.fit_transform(y_train)\n",
        "y_val = le.transform(y_val)\n",
        "y_test = le.transform(y_test)\n",
        "\n",
        "y_train = tf.keras.utils.to_categorical(y_train, num_classes=8, dtype='int32')\n",
        "y_val = tf.keras.utils.to_categorical(y_val, num_classes=8, dtype='int32')\n",
        "y_test = tf.keras.utils.to_categorical(y_test, num_classes=8, dtype='int32')\n",
        "\n",
        "gc.collect()"
      ],
      "execution_count": 106,
      "outputs": [
        {
          "output_type": "execute_result",
          "data": {
            "text/plain": [
              "0"
            ]
          },
          "metadata": {
            "tags": []
          },
          "execution_count": 106
        }
      ]
    },
    {
      "cell_type": "code",
      "metadata": {
        "id": "sGpD50MQ3mE5",
        "colab_type": "code",
        "outputId": "66ee3621-b26f-4589-de87-5b3e2c44cc2c",
        "colab": {
          "base_uri": "https://localhost:8080/",
          "height": 34
        }
      },
      "source": [
        "mfcc = np.stack(mfcc.ravel()).reshape((-1, 42, 100))\n",
        "gc.collect()"
      ],
      "execution_count": 107,
      "outputs": [
        {
          "output_type": "execute_result",
          "data": {
            "text/plain": [
              "0"
            ]
          },
          "metadata": {
            "tags": []
          },
          "execution_count": 107
        }
      ]
    },
    {
      "cell_type": "code",
      "metadata": {
        "id": "LYDzr-tr3mE7",
        "colab_type": "code",
        "outputId": "c3abec72-b004-4214-9097-58800c8918e7",
        "colab": {
          "base_uri": "https://localhost:8080/",
          "height": 34
        }
      },
      "source": [
        "mfcc.shape"
      ],
      "execution_count": 108,
      "outputs": [
        {
          "output_type": "execute_result",
          "data": {
            "text/plain": [
              "(7997, 42, 100)"
            ]
          },
          "metadata": {
            "tags": []
          },
          "execution_count": 108
        }
      ]
    },
    {
      "cell_type": "code",
      "metadata": {
        "id": "3AJTdLdc3mE9",
        "colab_type": "code",
        "outputId": "dbc7d948-2258-43d8-8819-978032f8a8b1",
        "colab": {
          "base_uri": "https://localhost:8080/",
          "height": 34
        }
      },
      "source": [
        "mfcc = mfcc.reshape((-1, 42, 100, 1))\n",
        "mfcc.shape"
      ],
      "execution_count": 109,
      "outputs": [
        {
          "output_type": "execute_result",
          "data": {
            "text/plain": [
              "(7997, 42, 100, 1)"
            ]
          },
          "metadata": {
            "tags": []
          },
          "execution_count": 109
        }
      ]
    },
    {
      "cell_type": "code",
      "metadata": {
        "id": "8ShGkivc3mE_",
        "colab_type": "code",
        "outputId": "fb7d95de-bdcf-4986-d8f0-933838b17756",
        "colab": {
          "base_uri": "https://localhost:8080/",
          "height": 34
        }
      },
      "source": [
        "mfcc[0].shape"
      ],
      "execution_count": 110,
      "outputs": [
        {
          "output_type": "execute_result",
          "data": {
            "text/plain": [
              "(42, 100, 1)"
            ]
          },
          "metadata": {
            "tags": []
          },
          "execution_count": 110
        }
      ]
    },
    {
      "cell_type": "code",
      "metadata": {
        "id": "vFLzQVSQ3mFB",
        "colab_type": "code",
        "colab": {}
      },
      "source": [
        "X_train = mfcc[index_train]\n",
        "X_val = mfcc[index_val]\n",
        "X_test = mfcc[index_test]"
      ],
      "execution_count": 0,
      "outputs": []
    },
    {
      "cell_type": "code",
      "metadata": {
        "id": "axwjhPjx3mFD",
        "colab_type": "code",
        "outputId": "9978d27a-add0-43e9-b4ce-d574f7cb1028",
        "colab": {
          "base_uri": "https://localhost:8080/",
          "height": 34
        }
      },
      "source": [
        "len(X_train)"
      ],
      "execution_count": 112,
      "outputs": [
        {
          "output_type": "execute_result",
          "data": {
            "text/plain": [
              "6397"
            ]
          },
          "metadata": {
            "tags": []
          },
          "execution_count": 112
        }
      ]
    },
    {
      "cell_type": "code",
      "metadata": {
        "id": "-S3EMXLw3mFG",
        "colab_type": "code",
        "outputId": "29df71f1-d7a8-4849-f33f-267168033ce7",
        "colab": {
          "base_uri": "https://localhost:8080/",
          "height": 34
        }
      },
      "source": [
        "y_train.shape"
      ],
      "execution_count": 113,
      "outputs": [
        {
          "output_type": "execute_result",
          "data": {
            "text/plain": [
              "(6397, 8)"
            ]
          },
          "metadata": {
            "tags": []
          },
          "execution_count": 113
        }
      ]
    },
    {
      "cell_type": "code",
      "metadata": {
        "id": "nN4c7K3XAf0u",
        "colab_type": "code",
        "outputId": "e1f9eaaa-1c98-4a2a-844b-d0399729a558",
        "colab": {
          "base_uri": "https://localhost:8080/",
          "height": 850
        }
      },
      "source": [
        "X_train[0]"
      ],
      "execution_count": 114,
      "outputs": [
        {
          "output_type": "execute_result",
          "data": {
            "text/plain": [
              "array([[[-0.89729261],\n",
              "        [-0.87826993],\n",
              "        [-0.84705981],\n",
              "        ...,\n",
              "        [-0.82893336],\n",
              "        [-0.86851227],\n",
              "        [-0.89546116]],\n",
              "\n",
              "       [[-0.90864784],\n",
              "        [-0.86458257],\n",
              "        [-0.89280869],\n",
              "        ...,\n",
              "        [-0.71902976],\n",
              "        [-0.74039966],\n",
              "        [-0.86828396]],\n",
              "\n",
              "       [[-0.91795203],\n",
              "        [-0.80894961],\n",
              "        [-0.73237008],\n",
              "        ...,\n",
              "        [-0.6260112 ],\n",
              "        [-0.63366381],\n",
              "        [-0.80096119]],\n",
              "\n",
              "       ...,\n",
              "\n",
              "       [[-0.94607476],\n",
              "        [-0.85034679],\n",
              "        [-0.81606109],\n",
              "        ...,\n",
              "        [-0.85882212],\n",
              "        [-0.80319165],\n",
              "        [-0.77697061]],\n",
              "\n",
              "       [[-0.86075281],\n",
              "        [-0.76593407],\n",
              "        [-0.85887035],\n",
              "        ...,\n",
              "        [-0.74965191],\n",
              "        [-0.6778962 ],\n",
              "        [-0.65331452]],\n",
              "\n",
              "       [[-0.86891926],\n",
              "        [-0.77027269],\n",
              "        [-0.87063011],\n",
              "        ...,\n",
              "        [-0.73497888],\n",
              "        [-0.64266463],\n",
              "        [-0.56037265]]])"
            ]
          },
          "metadata": {
            "tags": []
          },
          "execution_count": 114
        }
      ]
    },
    {
      "cell_type": "markdown",
      "metadata": {
        "id": "MbS66N04I_wT",
        "colab_type": "text"
      },
      "source": [
        "### VGG progressive 42 x 100"
      ]
    },
    {
      "cell_type": "code",
      "metadata": {
        "id": "knLt7VzCmUTk",
        "colab_type": "code",
        "colab": {
          "base_uri": "https://localhost:8080/",
          "height": 340
        },
        "outputId": "74972cdd-d58e-4f26-b496-b2961b4ab850"
      },
      "source": [
        "from keras.applications import VGG16\n",
        "\n",
        "vgg_conv = VGG16(weights='imagenet', include_top=False, input_shape=(42, 100, 3))\n",
        "\n",
        "for layer in vgg_conv.layers[:-4]:\n",
        "    layer.trainable = False\n",
        "    \n",
        "for layer in vgg_conv.layers:\n",
        "    print(layer, layer.trainable)"
      ],
      "execution_count": 26,
      "outputs": [
        {
          "output_type": "stream",
          "text": [
            "<keras.engine.input_layer.InputLayer object at 0x7f9b9af51278> False\n",
            "<keras.layers.convolutional.Conv2D object at 0x7f9b9af510f0> False\n",
            "<keras.layers.convolutional.Conv2D object at 0x7f9be4c5f9b0> False\n",
            "<keras.layers.pooling.MaxPooling2D object at 0x7f9b978cd128> False\n",
            "<keras.layers.convolutional.Conv2D object at 0x7f9b978cd080> False\n",
            "<keras.layers.convolutional.Conv2D object at 0x7f9b97807438> False\n",
            "<keras.layers.pooling.MaxPooling2D object at 0x7f9b97807e10> False\n",
            "<keras.layers.convolutional.Conv2D object at 0x7f9b97807dd8> False\n",
            "<keras.layers.convolutional.Conv2D object at 0x7f9b977f4b38> False\n",
            "<keras.layers.convolutional.Conv2D object at 0x7f9b978026d8> False\n",
            "<keras.layers.pooling.MaxPooling2D object at 0x7f9b97802ef0> False\n",
            "<keras.layers.convolutional.Conv2D object at 0x7f9b97802fd0> False\n",
            "<keras.layers.convolutional.Conv2D object at 0x7f9b97812c88> False\n",
            "<keras.layers.convolutional.Conv2D object at 0x7f9b977e6828> False\n",
            "<keras.layers.pooling.MaxPooling2D object at 0x7f9b977e0d68> False\n",
            "<keras.layers.convolutional.Conv2D object at 0x7f9b977e0f28> True\n",
            "<keras.layers.convolutional.Conv2D object at 0x7f9b977e0240> True\n",
            "<keras.layers.convolutional.Conv2D object at 0x7f9b97818978> True\n",
            "<keras.layers.pooling.MaxPooling2D object at 0x7f9b9781d400> True\n"
          ],
          "name": "stdout"
        }
      ]
    },
    {
      "cell_type": "code",
      "metadata": {
        "colab_type": "code",
        "id": "ujYQhouuRFHU",
        "outputId": "070e68f0-0ba8-4f60-b791-6482593ec236",
        "colab": {
          "base_uri": "https://localhost:8080/",
          "height": 34
        }
      },
      "source": [
        "X_train_RGB = X_train.reshape((-1, 42, 100))\n",
        "X_train_RGB = np.repeat(X_train_RGB[..., np.newaxis], 3, -1)\n",
        "X_train_RGB.shape"
      ],
      "execution_count": 116,
      "outputs": [
        {
          "output_type": "execute_result",
          "data": {
            "text/plain": [
              "(6397, 42, 100, 3)"
            ]
          },
          "metadata": {
            "tags": []
          },
          "execution_count": 116
        }
      ]
    },
    {
      "cell_type": "code",
      "metadata": {
        "colab_type": "code",
        "id": "JBFiZ8yfRFHY",
        "outputId": "2ee1cb59-b617-4f94-f575-834542edd548",
        "colab": {
          "base_uri": "https://localhost:8080/",
          "height": 34
        }
      },
      "source": [
        "X_val_RGB = X_val.reshape((-1, 42, 100))\n",
        "X_val_RGB = np.repeat(X_val_RGB[..., np.newaxis], 3, -1)\n",
        "X_val_RGB.shape"
      ],
      "execution_count": 117,
      "outputs": [
        {
          "output_type": "execute_result",
          "data": {
            "text/plain": [
              "(800, 42, 100, 3)"
            ]
          },
          "metadata": {
            "tags": []
          },
          "execution_count": 117
        }
      ]
    },
    {
      "cell_type": "code",
      "metadata": {
        "id": "1OpdItVzQs3h",
        "colab_type": "code",
        "colab": {}
      },
      "source": [
        "from keras.preprocessing.image import ImageDataGenerator\n",
        "\n",
        "train_datagen = ImageDataGenerator(rotation_range=20, width_shift_range=0.2, height_shift_range=0.2, horizontal_flip=True, fill_mode='nearest')\n",
        "train_batchsize = 32\n",
        "val_batchsize = 16\n",
        "val_datagen = ImageDataGenerator()\n",
        "\n",
        "train_generator = train_datagen.flow(X_train_RGB, y_train, batch_size=train_batchsize)\n",
        "#val_generator = train_datagen.flow(X_train_RGB, y_train, batch_size=val_batchsize, subset='validation')\n"
      ],
      "execution_count": 0,
      "outputs": []
    },
    {
      "cell_type": "code",
      "metadata": {
        "id": "2dA7W5y7q1Pw",
        "colab_type": "code",
        "colab": {}
      },
      "source": [
        "model = keras.Sequential()\n",
        "\n",
        "model.add(vgg_conv)\n",
        "model.add(Flatten())\n",
        "model.add(Dense(16, activation='relu', kernel_regularizer=keras.regularizers.l2()))\n",
        "model.add(Dropout(0.3))\n",
        "model.add(Dense(8, activation='softmax'))\n",
        "\n",
        "for cnn_block_layer in model.layers[0].layers:\n",
        "    cnn_block_layer.trainable = False\n",
        "  \n",
        "model.layers[0].trainable = False\n",
        "model.compile(loss='categorical_crossentropy', optimizer=keras.optimizers.Adam(lr=0.0001), metrics=['categorical_accuracy'])"
      ],
      "execution_count": 0,
      "outputs": []
    },
    {
      "cell_type": "code",
      "metadata": {
        "id": "TlBUHv8Ivh-K",
        "colab_type": "code",
        "colab": {
          "base_uri": "https://localhost:8080/",
          "height": 581
        },
        "outputId": "3bbfb8e4-a7a0-4d32-8b89-26cfe6973a04"
      },
      "source": [
        "mcp_save = ModelCheckpoint('retrained-model-mel-spec-generator-progressive.hdf5', save_best_only=True, monitor='val_categorical_accuracy', mode='max', verbose=0)\n",
        "history = model.fit(train_generator, steps_per_epoch=len(X_train)/ train_batchsize, epochs=500, validation_data=(X_val_RGB, y_val), callbacks=[mcp_save], verbose=0)\n",
        "plt.plot(history.history['categorical_accuracy'])\n",
        "plt.plot(history.history['val_categorical_accuracy'])\n",
        "plt.legend(['Train', 'Val'], loc='upper left')\n",
        "plt.show()\n",
        "plt.plot(history.history['loss'])\n",
        "plt.plot(history.history['val_loss'])\n",
        "plt.legend(['Train', 'Val'], loc='upper left')\n",
        "plt.show()\n",
        "\n",
        "model = load_model('retrained-model-mel-spec-generator-progressive.hdf5')\n",
        "print('Train:')\n",
        "print(model.evaluate(X_train_RGB, y_train, verbose=2))\n",
        "print('Val:')\n",
        "print(model.evaluate(X_val_RGB, y_val, verbose=2))"
      ],
      "execution_count": 123,
      "outputs": [
        {
          "output_type": "display_data",
          "data": {
            "image/png": "[encoded data removed]",
            "text/plain": [
              "<Figure size 432x288 with 1 Axes>"
            ]
          },
          "metadata": {
            "tags": [],
            "needs_background": "light"
          }
        },
        {
          "output_type": "display_data",
          "data": {
            "image/png": "[encoded data removed]",
            "text/plain": [
              "<Figure size 432x288 with 1 Axes>"
            ]
          },
          "metadata": {
            "tags": [],
            "needs_background": "light"
          }
        },
        {
          "output_type": "stream",
          "text": [
            "Train:\n",
            "[1.7540934864237698, 0.37752071022987366]\n",
            "Val:\n",
            "[1.7266198301315308, 0.4325000047683716]\n"
          ],
          "name": "stdout"
        }
      ]
    },
    {
      "cell_type": "markdown",
      "metadata": {
        "colab_type": "text",
        "id": "qb_monZFG1qH"
      },
      "source": [
        "### Feature Engineering 84x200"
      ]
    },
    {
      "cell_type": "code",
      "metadata": {
        "colab_type": "code",
        "id": "geh6TE4vG1qH",
        "colab": {
          "base_uri": "https://localhost:8080/",
          "height": 34
        },
        "outputId": "43cada1f-e7a4-4ace-a44b-c807539c26fc"
      },
      "source": [
        "import pandas as pd\n",
        "import pickle\n",
        "import numpy as np\n",
        "from sklearn.preprocessing import LabelEncoder\n",
        "import tensorflow as tf\n",
        "import keras\n",
        "from keras.layers import Dense, Conv2D, MaxPool2D, Flatten, Dropout, BatchNormalization, Activation\n",
        "from keras.callbacks import ModelCheckpoint\n",
        "from keras.models import load_model\n",
        "import matplotlib.pyplot as plt\n",
        "import gc\n",
        "import librosa"
      ],
      "execution_count": 1,
      "outputs": [
        {
          "output_type": "stream",
          "text": [
            "Using TensorFlow backend.\n"
          ],
          "name": "stderr"
        }
      ]
    },
    {
      "cell_type": "code",
      "metadata": {
        "colab_type": "code",
        "outputId": "4909eb7a-bc50-451d-b7f8-e1b2edf8bcb5",
        "id": "wE0VmzQ8G1qJ",
        "colab": {
          "base_uri": "https://localhost:8080/",
          "height": 34
        }
      },
      "source": [
        "from google.colab import drive\n",
        "drive.mount('/content/drive')"
      ],
      "execution_count": 2,
      "outputs": [
        {
          "output_type": "stream",
          "text": [
            "Drive already mounted at /content/drive; to attempt to forcibly remount, call drive.mount(\"/content/drive\", force_remount=True).\n"
          ],
          "name": "stdout"
        }
      ]
    },
    {
      "cell_type": "code",
      "metadata": {
        "colab_type": "code",
        "id": "5v3wmsCFG1qM",
        "colab": {}
      },
      "source": [
        "import os\n",
        "os.chdir('/content/drive/My Drive')"
      ],
      "execution_count": 0,
      "outputs": []
    },
    {
      "cell_type": "code",
      "metadata": {
        "colab_type": "code",
        "outputId": "07b37c6a-9aef-4016-e4eb-fda652d4204f",
        "id": "QjgNght_G1qQ",
        "colab": {
          "base_uri": "https://localhost:8080/",
          "height": 71
        }
      },
      "source": [
        "tracks = pd.read_csv('tracks.csv')\n",
        "tracks.columns = tracks.iloc[0]\n",
        "tracks = tracks.drop([0, 1])\n",
        "new_cols = tracks.columns.values\n",
        "new_cols[0] = 'track_id'\n",
        "tracks.columns = new_cols\n",
        "tracks = tracks.reset_index(drop=True)"
      ],
      "execution_count": 4,
      "outputs": [
        {
          "output_type": "stream",
          "text": [
            "/usr/local/lib/python3.6/dist-packages/IPython/core/interactiveshell.py:2718: DtypeWarning: Columns (0,1,5,6,8,12,18,20,21,22,24,33,34,38,39,44,47,49) have mixed types.Specify dtype option on import or set low_memory=False.\n",
            "  interactivity=interactivity, compiler=compiler, result=result)\n"
          ],
          "name": "stderr"
        }
      ]
    },
    {
      "cell_type": "code",
      "metadata": {
        "colab_type": "code",
        "outputId": "9398e5c1-8cf8-4367-e38b-88a7116fb606",
        "id": "ZAtlzX4zG1qV",
        "colab": {
          "base_uri": "https://localhost:8080/",
          "height": 238
        }
      },
      "source": [
        "mfcc = pickle.load(open('mel-spec.pkl', 'rb'))\n",
        "gc.collect()\n",
        "mfcc[0]"
      ],
      "execution_count": 5,
      "outputs": [
        {
          "output_type": "execute_result",
          "data": {
            "text/plain": [
              "array([[-65.062225, -47.759476, -44.176395, ..., -39.408173, -41.73693 ,\n",
              "        -29.414968],\n",
              "       [-65.40291 , -52.760864, -49.179825, ..., -16.405546, -16.314037,\n",
              "        -17.623047],\n",
              "       [-69.48193 , -56.67646 , -50.5069  , ..., -16.358839, -16.07241 ,\n",
              "        -18.654762],\n",
              "       ...,\n",
              "       [-79.42308 , -59.74297 , -36.38287 , ..., -46.371128, -42.364655,\n",
              "        -50.543457],\n",
              "       [-80.      , -63.4197  , -41.733234, ..., -50.3838  , -46.90663 ,\n",
              "        -58.020092],\n",
              "       [-80.      , -73.82068 , -52.945995, ..., -63.188034, -56.469955,\n",
              "        -67.65623 ]], dtype=float32)"
            ]
          },
          "metadata": {
            "tags": []
          },
          "execution_count": 5
        }
      ]
    },
    {
      "cell_type": "code",
      "metadata": {
        "colab_type": "code",
        "outputId": "01311e23-3168-4680-d5f4-1e10814ca9f5",
        "id": "cajFH8ksG1qX",
        "colab": {
          "base_uri": "https://localhost:8080/",
          "height": 34
        }
      },
      "source": [
        "mfcc[0].shape"
      ],
      "execution_count": 6,
      "outputs": [
        {
          "output_type": "execute_result",
          "data": {
            "text/plain": [
              "(128, 646)"
            ]
          },
          "metadata": {
            "tags": []
          },
          "execution_count": 6
        }
      ]
    },
    {
      "cell_type": "code",
      "metadata": {
        "colab_type": "code",
        "id": "9jjjbba5G1qZ",
        "colab": {}
      },
      "source": [
        "mfcc_df = pd.DataFrame(mfcc)\n",
        "index_nan = np.argwhere(pd.isnull(mfcc))"
      ],
      "execution_count": 0,
      "outputs": []
    },
    {
      "cell_type": "code",
      "metadata": {
        "colab_type": "code",
        "outputId": "e6590202-74ee-4aba-898c-8c43bf5e49cf",
        "id": "-fja5gWAG1qb",
        "colab": {
          "base_uri": "https://localhost:8080/",
          "height": 34
        }
      },
      "source": [
        "mfcc_df = mfcc_df.dropna()\n",
        "mfcc = mfcc_df.to_numpy().ravel()\n",
        "\n",
        "max_dim = 0\n",
        "for i in mfcc:\n",
        "    if i.shape[1] > max_dim:\n",
        "        max_dim = i.shape[1]\n",
        "    else:\n",
        "        pass\n",
        "print(max_dim)"
      ],
      "execution_count": 8,
      "outputs": [
        {
          "output_type": "stream",
          "text": [
            "647\n"
          ],
          "name": "stdout"
        }
      ]
    },
    {
      "cell_type": "code",
      "metadata": {
        "colab_type": "code",
        "id": "_vYB8wSqG1qd",
        "colab": {}
      },
      "source": [
        "for i in range(len(mfcc)):\n",
        "    mfcc[i] = np.append(mfcc[i], np.zeros((128, max_dim - mfcc[i].shape[1])), axis=1)\n",
        "    mfcc[i] = mfcc[i][21:105, 0:200]\n",
        "    mfcc[i] = librosa.util.normalize(mfcc[i])\n",
        "    \n",
        "index_nan = index_nan.ravel()\n"
      ],
      "execution_count": 0,
      "outputs": []
    },
    {
      "cell_type": "code",
      "metadata": {
        "colab_type": "code",
        "id": "i-gkO568G1qe",
        "colab": {
          "base_uri": "https://localhost:8080/",
          "height": 34
        },
        "outputId": "55969b6d-12b7-4f5c-e78e-634103d269ee"
      },
      "source": [
        "mfcc[4].shape"
      ],
      "execution_count": 10,
      "outputs": [
        {
          "output_type": "execute_result",
          "data": {
            "text/plain": [
              "(84, 200)"
            ]
          },
          "metadata": {
            "tags": []
          },
          "execution_count": 10
        }
      ]
    },
    {
      "cell_type": "code",
      "metadata": {
        "colab_type": "code",
        "id": "A0JCV6bdG1qg",
        "colab": {}
      },
      "source": [
        "del mfcc_df"
      ],
      "execution_count": 0,
      "outputs": []
    },
    {
      "cell_type": "code",
      "metadata": {
        "colab_type": "code",
        "id": "F8dEos-OG1qi",
        "colab": {
          "base_uri": "https://localhost:8080/",
          "height": 34
        },
        "outputId": "8ca9640d-4539-46b3-967e-962fd29a5b84"
      },
      "source": [
        "gc.collect()"
      ],
      "execution_count": 12,
      "outputs": [
        {
          "output_type": "execute_result",
          "data": {
            "text/plain": [
              "0"
            ]
          },
          "metadata": {
            "tags": []
          },
          "execution_count": 12
        }
      ]
    },
    {
      "cell_type": "code",
      "metadata": {
        "colab_type": "code",
        "id": "xg-NRpYSG1qj",
        "colab": {}
      },
      "source": [
        "tracks = tracks.loc[tracks['subset'] == 'small']\n",
        "tracks = tracks.reset_index()\n",
        "tracks = tracks.drop(index_nan)\n",
        "tracks = tracks.reset_index()"
      ],
      "execution_count": 0,
      "outputs": []
    },
    {
      "cell_type": "code",
      "metadata": {
        "colab_type": "code",
        "id": "cLRblOMEG1ql",
        "colab": {}
      },
      "source": [
        "y_train = tracks.loc[(tracks['split'] == 'training')]['genre_top']\n",
        "y_val = tracks.loc[(tracks['split'] == 'validation')]['genre_top']\n",
        "y_test = tracks.loc[(tracks['split'] == 'test')]['genre_top']"
      ],
      "execution_count": 0,
      "outputs": []
    },
    {
      "cell_type": "code",
      "metadata": {
        "colab_type": "code",
        "id": "icf3-MRTG1qn",
        "colab": {
          "base_uri": "https://localhost:8080/",
          "height": 221
        },
        "outputId": "0ee9597a-cf2d-417d-ba5c-1e6c4b5c44c2"
      },
      "source": [
        "index_train = y_train.index\n",
        "index_val = y_val.index\n",
        "index_test = y_test.index\n",
        "print(index_train)\n",
        "print(index_val)\n",
        "print(index_test)"
      ],
      "execution_count": 15,
      "outputs": [
        {
          "output_type": "stream",
          "text": [
            "Int64Index([   0,    1,    2,    3,    4,    7,    8,    9,   10,   11,\n",
            "            ...\n",
            "            7981, 7982, 7983, 7984, 7985, 7986, 7987, 7994, 7995, 7996],\n",
            "           dtype='int64', length=6397)\n",
            "Int64Index([   5,   23,   28,   36,   58,   70,  117,  122,  126,  127,\n",
            "            ...\n",
            "            7854, 7855, 7856, 7857, 7858, 7859, 7860, 7869, 7871, 7928],\n",
            "           dtype='int64', length=800)\n",
            "Int64Index([   6,   39,   40,   41,   42,   43,   44,   55,   56,   64,\n",
            "            ...\n",
            "            7951, 7952, 7964, 7965, 7988, 7989, 7990, 7991, 7992, 7993],\n",
            "           dtype='int64', length=800)\n"
          ],
          "name": "stdout"
        }
      ]
    },
    {
      "cell_type": "code",
      "metadata": {
        "colab_type": "code",
        "id": "4CgLe-SkG1qp",
        "colab": {
          "base_uri": "https://localhost:8080/",
          "height": 34
        },
        "outputId": "07f07575-4b34-48d4-e703-e24fc4c4b320"
      },
      "source": [
        "len(y_train) + len(y_val) + len(y_test)"
      ],
      "execution_count": 16,
      "outputs": [
        {
          "output_type": "execute_result",
          "data": {
            "text/plain": [
              "7997"
            ]
          },
          "metadata": {
            "tags": []
          },
          "execution_count": 16
        }
      ]
    },
    {
      "cell_type": "code",
      "metadata": {
        "colab_type": "code",
        "id": "kYqDL6wRG1qq",
        "colab": {
          "base_uri": "https://localhost:8080/",
          "height": 34
        },
        "outputId": "d2715dfe-8701-48c3-c23c-2b9e7c41d364"
      },
      "source": [
        "y_train = np.array(y_train)\n",
        "y_val = np.array(y_val)\n",
        "y_test = np.array(y_test)\n",
        "\n",
        "le = LabelEncoder()\n",
        "y_train = le.fit_transform(y_train)\n",
        "y_val = le.transform(y_val)\n",
        "y_test = le.transform(y_test)\n",
        "\n",
        "y_train = tf.keras.utils.to_categorical(y_train, num_classes=8, dtype='int32')\n",
        "y_val = tf.keras.utils.to_categorical(y_val, num_classes=8, dtype='int32')\n",
        "y_test = tf.keras.utils.to_categorical(y_test, num_classes=8, dtype='int32')\n",
        "\n",
        "gc.collect()"
      ],
      "execution_count": 17,
      "outputs": [
        {
          "output_type": "execute_result",
          "data": {
            "text/plain": [
              "0"
            ]
          },
          "metadata": {
            "tags": []
          },
          "execution_count": 17
        }
      ]
    },
    {
      "cell_type": "code",
      "metadata": {
        "colab_type": "code",
        "id": "poZTNe8qG1qt",
        "colab": {
          "base_uri": "https://localhost:8080/",
          "height": 34
        },
        "outputId": "f51730d2-1dfd-4be0-8df9-1400b73f5da4"
      },
      "source": [
        "mfcc = np.stack(mfcc.ravel()).reshape((-1, 84, 200))\n",
        "gc.collect()"
      ],
      "execution_count": 18,
      "outputs": [
        {
          "output_type": "execute_result",
          "data": {
            "text/plain": [
              "0"
            ]
          },
          "metadata": {
            "tags": []
          },
          "execution_count": 18
        }
      ]
    },
    {
      "cell_type": "code",
      "metadata": {
        "colab_type": "code",
        "id": "P3bZCSNHG1qu",
        "colab": {
          "base_uri": "https://localhost:8080/",
          "height": 34
        },
        "outputId": "2585a035-8a37-42ba-effc-377a752366f4"
      },
      "source": [
        "mfcc.shape"
      ],
      "execution_count": 19,
      "outputs": [
        {
          "output_type": "execute_result",
          "data": {
            "text/plain": [
              "(7997, 84, 200)"
            ]
          },
          "metadata": {
            "tags": []
          },
          "execution_count": 19
        }
      ]
    },
    {
      "cell_type": "code",
      "metadata": {
        "colab_type": "code",
        "id": "NpzoCA7sG1qw",
        "colab": {
          "base_uri": "https://localhost:8080/",
          "height": 34
        },
        "outputId": "ce33bd88-d8b2-4905-e0bb-7d73a237ce39"
      },
      "source": [
        "mfcc = mfcc.reshape((-1, 84, 200, 1))\n",
        "mfcc.shape"
      ],
      "execution_count": 20,
      "outputs": [
        {
          "output_type": "execute_result",
          "data": {
            "text/plain": [
              "(7997, 84, 200, 1)"
            ]
          },
          "metadata": {
            "tags": []
          },
          "execution_count": 20
        }
      ]
    },
    {
      "cell_type": "code",
      "metadata": {
        "colab_type": "code",
        "id": "P24B4HnpG1qy",
        "colab": {
          "base_uri": "https://localhost:8080/",
          "height": 34
        },
        "outputId": "d925fa37-0cdf-4a10-87f0-e1a95366f8f2"
      },
      "source": [
        "mfcc[0].shape"
      ],
      "execution_count": 21,
      "outputs": [
        {
          "output_type": "execute_result",
          "data": {
            "text/plain": [
              "(84, 200, 1)"
            ]
          },
          "metadata": {
            "tags": []
          },
          "execution_count": 21
        }
      ]
    },
    {
      "cell_type": "code",
      "metadata": {
        "colab_type": "code",
        "id": "Q1od2BZKG1q0",
        "colab": {}
      },
      "source": [
        "X_train = mfcc[index_train]\n",
        "X_val = mfcc[index_val]\n",
        "X_test = mfcc[index_test]"
      ],
      "execution_count": 0,
      "outputs": []
    },
    {
      "cell_type": "code",
      "metadata": {
        "colab_type": "code",
        "id": "IOR3sNstG1q1",
        "colab": {
          "base_uri": "https://localhost:8080/",
          "height": 34
        },
        "outputId": "258df3ec-a68f-49d8-a38c-a3faca831062"
      },
      "source": [
        "len(X_train)"
      ],
      "execution_count": 23,
      "outputs": [
        {
          "output_type": "execute_result",
          "data": {
            "text/plain": [
              "6397"
            ]
          },
          "metadata": {
            "tags": []
          },
          "execution_count": 23
        }
      ]
    },
    {
      "cell_type": "code",
      "metadata": {
        "colab_type": "code",
        "id": "0ketC589G1q3",
        "colab": {
          "base_uri": "https://localhost:8080/",
          "height": 34
        },
        "outputId": "57aaae95-9085-4f2d-d6db-ac859f872fd5"
      },
      "source": [
        "y_train.shape"
      ],
      "execution_count": 24,
      "outputs": [
        {
          "output_type": "execute_result",
          "data": {
            "text/plain": [
              "(6397, 8)"
            ]
          },
          "metadata": {
            "tags": []
          },
          "execution_count": 24
        }
      ]
    },
    {
      "cell_type": "code",
      "metadata": {
        "colab_type": "code",
        "id": "x221PF_VG1q4",
        "colab": {
          "base_uri": "https://localhost:8080/",
          "height": 850
        },
        "outputId": "8ff8749c-c318-4289-a57a-c8a47c5b6a88"
      },
      "source": [
        "X_train[0]"
      ],
      "execution_count": 25,
      "outputs": [
        {
          "output_type": "execute_result",
          "data": {
            "text/plain": [
              "array([[[-0.79008687],\n",
              "        [-0.82937669],\n",
              "        [-0.96926868],\n",
              "        ...,\n",
              "        [-0.55920659],\n",
              "        [-0.42289533],\n",
              "        [-0.91846662]],\n",
              "\n",
              "       [[-0.74518974],\n",
              "        [-0.79179873],\n",
              "        [-0.89417721],\n",
              "        ...,\n",
              "        [-0.583906  ],\n",
              "        [-0.28347741],\n",
              "        [-0.67718205]],\n",
              "\n",
              "       [[-0.7639578 ],\n",
              "        [-0.68022845],\n",
              "        [-0.71744701],\n",
              "        ...,\n",
              "        [-0.38204079],\n",
              "        [-0.25213181],\n",
              "        [-0.67643765]],\n",
              "\n",
              "       ...,\n",
              "\n",
              "       [[-0.96453814],\n",
              "        [-0.95082735],\n",
              "        [-0.78072869],\n",
              "        ...,\n",
              "        [-0.92255828],\n",
              "        [-0.93400115],\n",
              "        [-0.92797547]],\n",
              "\n",
              "       [[-0.99957511],\n",
              "        [-1.        ],\n",
              "        [-0.78703802],\n",
              "        ...,\n",
              "        [-0.8770104 ],\n",
              "        [-0.91102523],\n",
              "        [-0.91478281]],\n",
              "\n",
              "       [[-0.98499911],\n",
              "        [-0.96413733],\n",
              "        [-0.76823088],\n",
              "        ...,\n",
              "        [-0.78001824],\n",
              "        [-0.84614052],\n",
              "        [-0.96300048]]])"
            ]
          },
          "metadata": {
            "tags": []
          },
          "execution_count": 25
        }
      ]
    },
    {
      "cell_type": "markdown",
      "metadata": {
        "id": "VvwKfh6wGv7Q",
        "colab_type": "text"
      },
      "source": [
        "### VGG Progressive 84 x 200"
      ]
    },
    {
      "cell_type": "code",
      "metadata": {
        "colab_type": "code",
        "outputId": "1bf9e431-f894-4bb5-d54a-b039189c7b7b",
        "id": "SNMophldX5Dx",
        "colab": {
          "base_uri": "https://localhost:8080/",
          "height": 34
        }
      },
      "source": [
        "X_train_RGB = X_train.reshape((-1, 84, 200))\n",
        "X_train_RGB = np.repeat(X_train_RGB[..., np.newaxis], 3, -1)\n",
        "X_train_RGB.shape"
      ],
      "execution_count": 27,
      "outputs": [
        {
          "output_type": "execute_result",
          "data": {
            "text/plain": [
              "(6397, 84, 200, 3)"
            ]
          },
          "metadata": {
            "tags": []
          },
          "execution_count": 27
        }
      ]
    },
    {
      "cell_type": "code",
      "metadata": {
        "colab_type": "code",
        "outputId": "406a010a-9a86-4177-9669-99b1b757b251",
        "id": "CDxiaeGUX5D0",
        "colab": {
          "base_uri": "https://localhost:8080/",
          "height": 34
        }
      },
      "source": [
        "X_val_RGB = X_val.reshape((-1, 84, 200))\n",
        "X_val_RGB = np.repeat(X_val_RGB[..., np.newaxis], 3, -1)\n",
        "X_val_RGB.shape"
      ],
      "execution_count": 28,
      "outputs": [
        {
          "output_type": "execute_result",
          "data": {
            "text/plain": [
              "(800, 84, 200, 3)"
            ]
          },
          "metadata": {
            "tags": []
          },
          "execution_count": 28
        }
      ]
    },
    {
      "cell_type": "code",
      "metadata": {
        "colab_type": "code",
        "id": "xcVFTB4pX5D1",
        "colab": {}
      },
      "source": [
        "from keras.preprocessing.image import ImageDataGenerator\n",
        "\n",
        "train_datagen = ImageDataGenerator(rotation_range=20, width_shift_range=0.2, height_shift_range=0.2, horizontal_flip=True, fill_mode='nearest')\n",
        "train_batchsize = 32\n",
        "val_batchsize = 16\n",
        "val_datagen = ImageDataGenerator()\n",
        "\n",
        "train_generator = train_datagen.flow(X_train_RGB, y_train, batch_size=train_batchsize)\n",
        "#val_generator = train_datagen.flow(X_train_RGB, y_train, batch_size=val_batchsize, subset='validation')\n"
      ],
      "execution_count": 0,
      "outputs": []
    },
    {
      "cell_type": "code",
      "metadata": {
        "id": "uR6hYTxwwlCn",
        "colab_type": "code",
        "colab": {}
      },
      "source": [
        "model = keras.Sequential()\n",
        "model.add(Conv2D(64, kernel_size=(3, 3), input_shape=(84, 200, 3), activation='relu', padding='same', data_format='channels_last'))\n",
        "model.add(Conv2D(64, kernel_size=(3, 3), activation='relu', padding='same'))\n",
        "model.add(MaxPool2D(pool_size=(2, 2)))\n",
        "\n",
        "# load the pretrained model\n",
        "prior = load_model('retrained-model-mel-spec-generator-progressive.hdf5')\n",
        "\n",
        "# add all but the first two layers of VGG16 to the new model\n",
        "# strip the input layer out, this is now 96x96\n",
        "# also strip out the first convolutional layer, this took the 48x48 input and convolved it but\n",
        "# this is now the job of the three new layers.\n",
        "for layer in prior.layers[0].layers[2:]:\n",
        "    model.add(layer)\n",
        "\n",
        "for layer in prior.layers[-4:]:\n",
        "  layer.trainable=False\n",
        "\n",
        "# re-add the feedforward layers on top\n",
        "for layer in prior.layers[1:]:\n",
        "  model.add(layer)\n",
        "\n",
        "# the pretrained CNN layers are already marked non-trainable\n",
        "# mark off the top layers as well\n"
      ],
      "execution_count": 0,
      "outputs": []
    },
    {
      "cell_type": "code",
      "metadata": {
        "id": "RnLr1jS0FLjL",
        "colab_type": "code",
        "colab": {}
      },
      "source": [
        "model.compile(loss='categorical_crossentropy', optimizer=keras.optimizers.Adam(lr=0.0001), metrics=['categorical_accuracy'])"
      ],
      "execution_count": 0,
      "outputs": []
    },
    {
      "cell_type": "code",
      "metadata": {
        "id": "oZK4kNYsFPgU",
        "colab_type": "code",
        "colab": {
          "base_uri": "https://localhost:8080/",
          "height": 1000
        },
        "outputId": "93e8d91c-2c0f-4e43-a668-4d4bdb3f0081"
      },
      "source": [
        "mcp_save = ModelCheckpoint('retrained-model-mel-spec-generator-progressive-84.hdf5', save_best_only=True, monitor='val_categorical_accuracy', mode='max', verbose=0)\n",
        "history = model.fit(train_generator, steps_per_epoch=len(X_train)/ train_batchsize, epochs=50, validation_data=(X_val_RGB, y_val), callbacks=[mcp_save])\n",
        "plt.plot(history.history['categorical_accuracy'])\n",
        "plt.plot(history.history['val_categorical_accuracy'])\n",
        "plt.legend(['Train', 'Val'], loc='upper left')\n",
        "plt.show()\n",
        "plt.plot(history.history['loss'])\n",
        "plt.plot(history.history['val_loss'])\n",
        "plt.legend(['Train', 'Val'], loc='upper left')\n",
        "plt.show()\n",
        "\n",
        "model = load_model('retrained-model-mel-spec-generator-progressive-84.hdf5')\n",
        "print('Train:')\n",
        "print(model.evaluate(X_train_RGB, y_train, verbose=2))\n",
        "print('Val:')\n",
        "print(model.evaluate(X_val_RGB, y_val, verbose=2))"
      ],
      "execution_count": 32,
      "outputs": [
        {
          "output_type": "stream",
          "text": [
            "Epoch 1/50\n",
            "200/199 [==============================] - 24s 118ms/step - loss: 2.2587 - categorical_accuracy: 0.1240 - val_loss: 2.1464 - val_categorical_accuracy: 0.1250\n",
            "Epoch 2/50\n",
            "200/199 [==============================] - 22s 112ms/step - loss: 2.2030 - categorical_accuracy: 0.1252 - val_loss: 2.1312 - val_categorical_accuracy: 0.1250\n",
            "Epoch 3/50\n",
            "200/199 [==============================] - 22s 112ms/step - loss: 2.1636 - categorical_accuracy: 0.1402 - val_loss: 2.0610 - val_categorical_accuracy: 0.1312\n",
            "Epoch 4/50\n",
            "200/199 [==============================] - 22s 111ms/step - loss: 2.1166 - categorical_accuracy: 0.1516 - val_loss: 1.9991 - val_categorical_accuracy: 0.1513\n",
            "Epoch 5/50\n",
            "200/199 [==============================] - 22s 111ms/step - loss: 2.0750 - categorical_accuracy: 0.1593 - val_loss: 1.9927 - val_categorical_accuracy: 0.1625\n",
            "Epoch 6/50\n",
            "200/199 [==============================] - 23s 114ms/step - loss: 2.0475 - categorical_accuracy: 0.1746 - val_loss: 1.9513 - val_categorical_accuracy: 0.2262\n",
            "Epoch 7/50\n",
            "200/199 [==============================] - 23s 113ms/step - loss: 2.0454 - categorical_accuracy: 0.1768 - val_loss: 1.9452 - val_categorical_accuracy: 0.2325\n",
            "Epoch 8/50\n",
            "200/199 [==============================] - 22s 112ms/step - loss: 2.0302 - categorical_accuracy: 0.1896 - val_loss: 1.9452 - val_categorical_accuracy: 0.2650\n",
            "Epoch 9/50\n",
            "200/199 [==============================] - 22s 112ms/step - loss: 2.0173 - categorical_accuracy: 0.1943 - val_loss: 1.9175 - val_categorical_accuracy: 0.3187\n",
            "Epoch 10/50\n",
            "200/199 [==============================] - 22s 112ms/step - loss: 1.9933 - categorical_accuracy: 0.2131 - val_loss: 1.9099 - val_categorical_accuracy: 0.3350\n",
            "Epoch 11/50\n",
            "200/199 [==============================] - 22s 112ms/step - loss: 1.9919 - categorical_accuracy: 0.2231 - val_loss: 1.9061 - val_categorical_accuracy: 0.3300\n",
            "Epoch 12/50\n",
            "200/199 [==============================] - 22s 112ms/step - loss: 1.9846 - categorical_accuracy: 0.2339 - val_loss: 1.8891 - val_categorical_accuracy: 0.3438\n",
            "Epoch 13/50\n",
            "200/199 [==============================] - 22s 112ms/step - loss: 1.9698 - categorical_accuracy: 0.2382 - val_loss: 1.8792 - val_categorical_accuracy: 0.3600\n",
            "Epoch 14/50\n",
            "200/199 [==============================] - 23s 113ms/step - loss: 1.9752 - categorical_accuracy: 0.2393 - val_loss: 1.8833 - val_categorical_accuracy: 0.3313\n",
            "Epoch 15/50\n",
            "200/199 [==============================] - 23s 113ms/step - loss: 1.9649 - categorical_accuracy: 0.2517 - val_loss: 1.8725 - val_categorical_accuracy: 0.3663\n",
            "Epoch 16/50\n",
            "200/199 [==============================] - 22s 112ms/step - loss: 1.9612 - categorical_accuracy: 0.2504 - val_loss: 1.8745 - val_categorical_accuracy: 0.3325\n",
            "Epoch 17/50\n",
            "200/199 [==============================] - 22s 112ms/step - loss: 1.9542 - categorical_accuracy: 0.2515 - val_loss: 1.8582 - val_categorical_accuracy: 0.3650\n",
            "Epoch 18/50\n",
            "200/199 [==============================] - 22s 112ms/step - loss: 1.9596 - categorical_accuracy: 0.2572 - val_loss: 1.8506 - val_categorical_accuracy: 0.3762\n",
            "Epoch 19/50\n",
            "200/199 [==============================] - 23s 113ms/step - loss: 1.9463 - categorical_accuracy: 0.2559 - val_loss: 1.8672 - val_categorical_accuracy: 0.3638\n",
            "Epoch 20/50\n",
            "200/199 [==============================] - 23s 114ms/step - loss: 1.9435 - categorical_accuracy: 0.2614 - val_loss: 1.8610 - val_categorical_accuracy: 0.3600\n",
            "Epoch 21/50\n",
            "200/199 [==============================] - 23s 114ms/step - loss: 1.9469 - categorical_accuracy: 0.2606 - val_loss: 1.8535 - val_categorical_accuracy: 0.3850\n",
            "Epoch 22/50\n",
            "200/199 [==============================] - 22s 111ms/step - loss: 1.9417 - categorical_accuracy: 0.2622 - val_loss: 1.9046 - val_categorical_accuracy: 0.3150\n",
            "Epoch 23/50\n",
            "200/199 [==============================] - 23s 113ms/step - loss: 1.9395 - categorical_accuracy: 0.2689 - val_loss: 1.8469 - val_categorical_accuracy: 0.3550\n",
            "Epoch 24/50\n",
            "200/199 [==============================] - 23s 113ms/step - loss: 1.9404 - categorical_accuracy: 0.2607 - val_loss: 1.8741 - val_categorical_accuracy: 0.3550\n",
            "Epoch 25/50\n",
            "200/199 [==============================] - 23s 113ms/step - loss: 1.9301 - categorical_accuracy: 0.2647 - val_loss: 1.8589 - val_categorical_accuracy: 0.3313\n",
            "Epoch 26/50\n",
            "200/199 [==============================] - 22s 112ms/step - loss: 1.9371 - categorical_accuracy: 0.2673 - val_loss: 1.8614 - val_categorical_accuracy: 0.3613\n",
            "Epoch 27/50\n",
            "200/199 [==============================] - 22s 112ms/step - loss: 1.9445 - categorical_accuracy: 0.2568 - val_loss: 1.8385 - val_categorical_accuracy: 0.3625\n",
            "Epoch 28/50\n",
            "200/199 [==============================] - 23s 113ms/step - loss: 1.9262 - categorical_accuracy: 0.2690 - val_loss: 1.8431 - val_categorical_accuracy: 0.3688\n",
            "Epoch 29/50\n",
            "200/199 [==============================] - 22s 111ms/step - loss: 1.9343 - categorical_accuracy: 0.2659 - val_loss: 1.8473 - val_categorical_accuracy: 0.3400\n",
            "Epoch 30/50\n",
            "200/199 [==============================] - 22s 111ms/step - loss: 1.9403 - categorical_accuracy: 0.2617 - val_loss: 1.8712 - val_categorical_accuracy: 0.3388\n",
            "Epoch 31/50\n",
            "200/199 [==============================] - 22s 112ms/step - loss: 1.9266 - categorical_accuracy: 0.2715 - val_loss: 1.8267 - val_categorical_accuracy: 0.3650\n",
            "Epoch 32/50\n",
            "200/199 [==============================] - 23s 113ms/step - loss: 1.9342 - categorical_accuracy: 0.2743 - val_loss: 1.8276 - val_categorical_accuracy: 0.3812\n",
            "Epoch 33/50\n",
            "200/199 [==============================] - 22s 112ms/step - loss: 1.9365 - categorical_accuracy: 0.2654 - val_loss: 1.8472 - val_categorical_accuracy: 0.3575\n",
            "Epoch 34/50\n",
            "200/199 [==============================] - 22s 112ms/step - loss: 1.9269 - categorical_accuracy: 0.2729 - val_loss: 1.8263 - val_categorical_accuracy: 0.3800\n",
            "Epoch 35/50\n",
            "200/199 [==============================] - 22s 112ms/step - loss: 1.9324 - categorical_accuracy: 0.2681 - val_loss: 1.8165 - val_categorical_accuracy: 0.3837\n",
            "Epoch 36/50\n",
            "200/199 [==============================] - 22s 111ms/step - loss: 1.9272 - categorical_accuracy: 0.2687 - val_loss: 1.8138 - val_categorical_accuracy: 0.3762\n",
            "Epoch 37/50\n",
            "200/199 [==============================] - 22s 111ms/step - loss: 1.9274 - categorical_accuracy: 0.2801 - val_loss: 1.8287 - val_categorical_accuracy: 0.3700\n",
            "Epoch 38/50\n",
            "200/199 [==============================] - 22s 111ms/step - loss: 1.9231 - categorical_accuracy: 0.2697 - val_loss: 1.8285 - val_categorical_accuracy: 0.3550\n",
            "Epoch 39/50\n",
            "200/199 [==============================] - 22s 112ms/step - loss: 1.9236 - categorical_accuracy: 0.2687 - val_loss: 1.8236 - val_categorical_accuracy: 0.3887\n",
            "Epoch 40/50\n",
            "200/199 [==============================] - 22s 111ms/step - loss: 1.9250 - categorical_accuracy: 0.2653 - val_loss: 1.8062 - val_categorical_accuracy: 0.3762\n",
            "Epoch 41/50\n",
            "200/199 [==============================] - 22s 111ms/step - loss: 1.9216 - categorical_accuracy: 0.2784 - val_loss: 1.8086 - val_categorical_accuracy: 0.3850\n",
            "Epoch 42/50\n",
            "200/199 [==============================] - 22s 112ms/step - loss: 1.9289 - categorical_accuracy: 0.2708 - val_loss: 1.8126 - val_categorical_accuracy: 0.3688\n",
            "Epoch 43/50\n",
            "200/199 [==============================] - 22s 112ms/step - loss: 1.9255 - categorical_accuracy: 0.2715 - val_loss: 1.8273 - val_categorical_accuracy: 0.3750\n",
            "Epoch 44/50\n",
            "200/199 [==============================] - 22s 111ms/step - loss: 1.9283 - categorical_accuracy: 0.2736 - val_loss: 1.8197 - val_categorical_accuracy: 0.3663\n",
            "Epoch 45/50\n",
            "200/199 [==============================] - 22s 109ms/step - loss: 1.9226 - categorical_accuracy: 0.2693 - val_loss: 1.8169 - val_categorical_accuracy: 0.3800\n",
            "Epoch 46/50\n",
            "200/199 [==============================] - 22s 112ms/step - loss: 1.9131 - categorical_accuracy: 0.2797 - val_loss: 1.8205 - val_categorical_accuracy: 0.3738\n",
            "Epoch 47/50\n",
            "200/199 [==============================] - 22s 112ms/step - loss: 1.9261 - categorical_accuracy: 0.2709 - val_loss: 1.8089 - val_categorical_accuracy: 0.3663\n",
            "Epoch 48/50\n",
            "200/199 [==============================] - 22s 111ms/step - loss: 1.9169 - categorical_accuracy: 0.2747 - val_loss: 1.8229 - val_categorical_accuracy: 0.3738\n",
            "Epoch 49/50\n",
            "200/199 [==============================] - 22s 111ms/step - loss: 1.9150 - categorical_accuracy: 0.2853 - val_loss: 1.8077 - val_categorical_accuracy: 0.3562\n",
            "Epoch 50/50\n",
            "200/199 [==============================] - 22s 112ms/step - loss: 1.9206 - categorical_accuracy: 0.2729 - val_loss: 1.8101 - val_categorical_accuracy: 0.3738\n"
          ],
          "name": "stdout"
        },
        {
          "output_type": "display_data",
          "data": {
            "image/png": "[encoded data removed]",
            "text/plain": [
              "<Figure size 432x288 with 1 Axes>"
            ]
          },
          "metadata": {
            "tags": [],
            "needs_background": "light"
          }
        },
        {
          "output_type": "display_data",
          "data": {
            "image/png": "[encoded data removed]",
            "text/plain": [
              "<Figure size 432x288 with 1 Axes>"
            ]
          },
          "metadata": {
            "tags": [],
            "needs_background": "light"
          }
        },
        {
          "output_type": "stream",
          "text": [
            "Train:\n",
            "[1.8644373486223529, 0.3262466788291931]\n",
            "Val:\n",
            "[1.823633017539978, 0.38874998688697815]\n"
          ],
          "name": "stdout"
        }
      ]
    },
    {
      "cell_type": "code",
      "metadata": {
        "id": "ASSKsllZtllS",
        "colab_type": "code",
        "colab": {
          "base_uri": "https://localhost:8080/",
          "height": 34
        },
        "outputId": "5a0db8b0-87b1-459a-bcb4-fe787f34a736"
      },
      "source": [
        "X_test_RGB = X_test.reshape((-1, 84, 200))\n",
        "X_test_RGB = np.repeat(X_test_RGB[..., np.newaxis], 3, -1)\n",
        "X_test_RGB.shape"
      ],
      "execution_count": 36,
      "outputs": [
        {
          "output_type": "execute_result",
          "data": {
            "text/plain": [
              "(800, 84, 200, 3)"
            ]
          },
          "metadata": {
            "tags": []
          },
          "execution_count": 36
        }
      ]
    },
    {
      "cell_type": "code",
      "metadata": {
        "id": "KK0o4xWCtCOm",
        "colab_type": "code",
        "colab": {
          "base_uri": "https://localhost:8080/",
          "height": 272
        },
        "outputId": "9481981f-8bb2-4aab-9c9d-c61aa748e39c"
      },
      "source": [
        "from sklearn.metrics import classification_report\n",
        "\n",
        "model = load_model('retrained-model-mel-spec-generator-progressive-84.hdf5')\n",
        "\n",
        "y_pred = model.predict(X_test_RGB)\n",
        "y_pred = np.argmax(y_pred, 1)\n",
        "\n",
        "y_pred = le.inverse_transform(y_pred)\n",
        "y_true_test = np.argmax(y_test, 1)\n",
        "y_true_test = le.inverse_transform(y_true_test)\n",
        "\n",
        "print(classification_report(y_true_test, y_pred))"
      ],
      "execution_count": 37,
      "outputs": [
        {
          "output_type": "stream",
          "text": [
            "               precision    recall  f1-score   support\n",
            "\n",
            "   Electronic       0.32      0.33      0.33       100\n",
            " Experimental       0.26      0.12      0.16       100\n",
            "         Folk       0.20      0.28      0.23       100\n",
            "      Hip-Hop       0.52      0.68      0.59       100\n",
            " Instrumental       0.32      0.20      0.25       100\n",
            "International       0.35      0.53      0.42       100\n",
            "          Pop       0.50      0.01      0.02       100\n",
            "         Rock       0.28      0.46      0.35       100\n",
            "\n",
            "     accuracy                           0.33       800\n",
            "    macro avg       0.34      0.33      0.29       800\n",
            " weighted avg       0.34      0.33      0.29       800\n",
            "\n"
          ],
          "name": "stdout"
        }
      ]
    },
    {
      "cell_type": "markdown",
      "metadata": {
        "id": "ZwHeA2ATYYUp",
        "colab_type": "text"
      },
      "source": [
        "### Feature Engineering 128x300"
      ]
    },
    {
      "cell_type": "code",
      "metadata": {
        "colab_type": "code",
        "id": "_ypoNsaCYdma",
        "colab": {}
      },
      "source": [
        "import pandas as pd\n",
        "import pickle\n",
        "import numpy as np\n",
        "from sklearn.preprocessing import LabelEncoder\n",
        "import tensorflow as tf\n",
        "import keras\n",
        "from keras.layers import Dense, Conv2D, MaxPool2D, Flatten, Dropout, BatchNormalization, Activation\n",
        "from keras.callbacks import ModelCheckpoint\n",
        "from keras.models import load_model\n",
        "import matplotlib.pyplot as plt\n",
        "import gc\n",
        "import librosa"
      ],
      "execution_count": 0,
      "outputs": []
    },
    {
      "cell_type": "code",
      "metadata": {
        "colab_type": "code",
        "outputId": "13593d7d-e41e-4114-e631-cd756380a0cb",
        "id": "k9Ibn_vOYdmd",
        "colab": {
          "base_uri": "https://localhost:8080/",
          "height": 34
        }
      },
      "source": [
        "from google.colab import drive\n",
        "drive.mount('/content/drive')"
      ],
      "execution_count": 0,
      "outputs": [
        {
          "output_type": "stream",
          "text": [
            "Drive already mounted at /content/drive; to attempt to forcibly remount, call drive.mount(\"/content/drive\", force_remount=True).\n"
          ],
          "name": "stdout"
        }
      ]
    },
    {
      "cell_type": "code",
      "metadata": {
        "colab_type": "code",
        "id": "4YJSIF_nYdmg",
        "colab": {}
      },
      "source": [
        "import os\n",
        "os.chdir('/content/drive/My Drive')"
      ],
      "execution_count": 0,
      "outputs": []
    },
    {
      "cell_type": "code",
      "metadata": {
        "colab_type": "code",
        "outputId": "b0907583-6958-4ec9-c620-2ebd7a577fdb",
        "id": "2Q33F6gSYdmh",
        "colab": {
          "base_uri": "https://localhost:8080/",
          "height": 71
        }
      },
      "source": [
        "tracks = pd.read_csv('tracks.csv')\n",
        "tracks.columns = tracks.iloc[0]\n",
        "tracks = tracks.drop([0, 1])\n",
        "new_cols = tracks.columns.values\n",
        "new_cols[0] = 'track_id'\n",
        "tracks.columns = new_cols\n",
        "tracks = tracks.reset_index(drop=True)"
      ],
      "execution_count": 0,
      "outputs": [
        {
          "output_type": "stream",
          "text": [
            "/usr/local/lib/python3.6/dist-packages/IPython/core/interactiveshell.py:2718: DtypeWarning: Columns (0,1,5,6,8,12,18,20,21,22,24,33,34,38,39,44,47,49) have mixed types.Specify dtype option on import or set low_memory=False.\n",
            "  interactivity=interactivity, compiler=compiler, result=result)\n"
          ],
          "name": "stderr"
        }
      ]
    },
    {
      "cell_type": "code",
      "metadata": {
        "colab_type": "code",
        "outputId": "62d50b54-c496-4756-9337-5b14d67971d3",
        "id": "Y3wc5xfIYdmj",
        "colab": {
          "base_uri": "https://localhost:8080/"
        }
      },
      "source": [
        "mfcc = pickle.load(open('mel-spec.pkl', 'rb'))\n",
        "gc.collect()\n",
        "mfcc[0]"
      ],
      "execution_count": 0,
      "outputs": [
        {
          "output_type": "execute_result",
          "data": {
            "text/plain": [
              "array([[-65.062225, -47.759476, -44.176395, ..., -39.408173, -41.73693 ,\n",
              "        -29.414968],\n",
              "       [-65.40291 , -52.760864, -49.179825, ..., -16.405546, -16.314037,\n",
              "        -17.623047],\n",
              "       [-69.48193 , -56.67646 , -50.5069  , ..., -16.358839, -16.07241 ,\n",
              "        -18.654762],\n",
              "       ...,\n",
              "       [-79.42308 , -59.74297 , -36.38287 , ..., -46.371128, -42.364655,\n",
              "        -50.543457],\n",
              "       [-80.      , -63.4197  , -41.733234, ..., -50.3838  , -46.90663 ,\n",
              "        -58.020092],\n",
              "       [-80.      , -73.82068 , -52.945995, ..., -63.188034, -56.469955,\n",
              "        -67.65623 ]], dtype=float32)"
            ]
          },
          "metadata": {
            "tags": []
          },
          "execution_count": 94
        }
      ]
    },
    {
      "cell_type": "code",
      "metadata": {
        "colab_type": "code",
        "outputId": "edaad13b-3dc2-4529-84ff-ffc9d85e40e5",
        "id": "TMe9f4p6Ydmm",
        "colab": {
          "base_uri": "https://localhost:8080/"
        }
      },
      "source": [
        "mfcc[0].shape"
      ],
      "execution_count": 0,
      "outputs": [
        {
          "output_type": "execute_result",
          "data": {
            "text/plain": [
              "(128, 646)"
            ]
          },
          "metadata": {
            "tags": []
          },
          "execution_count": 95
        }
      ]
    },
    {
      "cell_type": "code",
      "metadata": {
        "colab_type": "code",
        "id": "-A8bTXaHYdmo",
        "colab": {}
      },
      "source": [
        "mfcc_df = pd.DataFrame(mfcc)\n",
        "index_nan = np.argwhere(pd.isnull(mfcc))"
      ],
      "execution_count": 0,
      "outputs": []
    },
    {
      "cell_type": "code",
      "metadata": {
        "colab_type": "code",
        "outputId": "6f7379af-52bb-4750-9171-fcd7abf66a19",
        "id": "VkrK5LyNYdmp",
        "colab": {
          "base_uri": "https://localhost:8080/"
        }
      },
      "source": [
        "mfcc_df = mfcc_df.dropna()\n",
        "mfcc = mfcc_df.to_numpy().ravel()\n",
        "\n",
        "max_dim = 0\n",
        "for i in mfcc:\n",
        "    if i.shape[1] > max_dim:\n",
        "        max_dim = i.shape[1]\n",
        "    else:\n",
        "        pass\n",
        "print(max_dim)"
      ],
      "execution_count": 0,
      "outputs": [
        {
          "output_type": "stream",
          "text": [
            "647\n"
          ],
          "name": "stdout"
        }
      ]
    },
    {
      "cell_type": "code",
      "metadata": {
        "colab_type": "code",
        "id": "yQ8XaUfeYdms",
        "colab": {}
      },
      "source": [
        "for i in range(len(mfcc)):\n",
        "    mfcc[i] = np.append(mfcc[i], np.zeros((128, max_dim - mfcc[i].shape[1])), axis=1)\n",
        "    mfcc[i] = mfcc[i][:128, :300]\n",
        "    mfcc[i] = librosa.util.normalize(mfcc[i])\n",
        "    \n",
        "index_nan = index_nan.ravel()\n"
      ],
      "execution_count": 0,
      "outputs": []
    },
    {
      "cell_type": "code",
      "metadata": {
        "colab_type": "code",
        "id": "hgzVpo6wYdmu",
        "colab": {}
      },
      "source": [
        "mfcc[4].shape"
      ],
      "execution_count": 0,
      "outputs": []
    },
    {
      "cell_type": "code",
      "metadata": {
        "colab_type": "code",
        "id": "iPaJwXwRYdmw",
        "colab": {}
      },
      "source": [
        "del mfcc_df"
      ],
      "execution_count": 0,
      "outputs": []
    },
    {
      "cell_type": "code",
      "metadata": {
        "colab_type": "code",
        "id": "t3iMJsCxYdmx",
        "colab": {}
      },
      "source": [
        "gc.collect()"
      ],
      "execution_count": 0,
      "outputs": []
    },
    {
      "cell_type": "code",
      "metadata": {
        "colab_type": "code",
        "id": "or_8PYe_Ydm0",
        "colab": {}
      },
      "source": [
        "tracks = tracks.loc[tracks['subset'] == 'small']\n",
        "tracks = tracks.reset_index()\n",
        "tracks = tracks.drop(index_nan)\n",
        "tracks = tracks.reset_index()"
      ],
      "execution_count": 0,
      "outputs": []
    },
    {
      "cell_type": "code",
      "metadata": {
        "colab_type": "code",
        "id": "i8A32jreYdm2",
        "colab": {}
      },
      "source": [
        "y_train = tracks.loc[(tracks['split'] == 'training')]['genre_top']\n",
        "y_val = tracks.loc[(tracks['split'] == 'validation')]['genre_top']\n",
        "y_test = tracks.loc[(tracks['split'] == 'test')]['genre_top']"
      ],
      "execution_count": 0,
      "outputs": []
    },
    {
      "cell_type": "code",
      "metadata": {
        "colab_type": "code",
        "id": "zwi3gzWkYdm4",
        "colab": {}
      },
      "source": [
        "index_train = y_train.index\n",
        "index_val = y_val.index\n",
        "index_test = y_test.index\n",
        "print(index_train)\n",
        "print(index_val)\n",
        "print(index_test)"
      ],
      "execution_count": 0,
      "outputs": []
    },
    {
      "cell_type": "code",
      "metadata": {
        "colab_type": "code",
        "id": "gKSl3lOzYdm5",
        "colab": {}
      },
      "source": [
        "len(y_train) + len(y_val) + len(y_test)"
      ],
      "execution_count": 0,
      "outputs": []
    },
    {
      "cell_type": "code",
      "metadata": {
        "colab_type": "code",
        "id": "B7qsJW3CYdm7",
        "colab": {}
      },
      "source": [
        "y_train = np.array(y_train)\n",
        "y_val = np.array(y_val)\n",
        "y_test = np.array(y_test)\n",
        "\n",
        "le = LabelEncoder()\n",
        "y_train = le.fit_transform(y_train)\n",
        "y_val = le.transform(y_val)\n",
        "y_test = le.transform(y_test)\n",
        "\n",
        "y_train = tf.keras.utils.to_categorical(y_train, num_classes=8, dtype='int32')\n",
        "y_val = tf.keras.utils.to_categorical(y_val, num_classes=8, dtype='int32')\n",
        "y_test = tf.keras.utils.to_categorical(y_test, num_classes=8, dtype='int32')\n",
        "\n",
        "gc.collect()"
      ],
      "execution_count": 0,
      "outputs": []
    },
    {
      "cell_type": "code",
      "metadata": {
        "colab_type": "code",
        "id": "ZDcnVJhSYdm9",
        "colab": {}
      },
      "source": [
        "mfcc = np.stack(mfcc.ravel()).reshape((-1, 128, 300))\n",
        "gc.collect()"
      ],
      "execution_count": 0,
      "outputs": []
    },
    {
      "cell_type": "code",
      "metadata": {
        "colab_type": "code",
        "id": "XzY_1v6TYdnA",
        "colab": {}
      },
      "source": [
        "mfcc.shape"
      ],
      "execution_count": 0,
      "outputs": []
    },
    {
      "cell_type": "code",
      "metadata": {
        "colab_type": "code",
        "id": "nqaEhT0KYdnB",
        "colab": {}
      },
      "source": [
        "mfcc = mfcc.reshape((-1, 128, 300, 1))\n",
        "mfcc.shape"
      ],
      "execution_count": 0,
      "outputs": []
    },
    {
      "cell_type": "code",
      "metadata": {
        "colab_type": "code",
        "id": "8-9n9Pg1YdnD",
        "colab": {}
      },
      "source": [
        "mfcc[0].shape"
      ],
      "execution_count": 0,
      "outputs": []
    },
    {
      "cell_type": "code",
      "metadata": {
        "colab_type": "code",
        "id": "L2LdSFySYdnF",
        "colab": {}
      },
      "source": [
        "X_train = mfcc[index_train]\n",
        "X_val = mfcc[index_val]\n",
        "X_test = mfcc[index_test]"
      ],
      "execution_count": 0,
      "outputs": []
    },
    {
      "cell_type": "code",
      "metadata": {
        "colab_type": "code",
        "id": "6XO8PCZ9YdnH",
        "colab": {}
      },
      "source": [
        "len(X_train)"
      ],
      "execution_count": 0,
      "outputs": []
    },
    {
      "cell_type": "code",
      "metadata": {
        "colab_type": "code",
        "id": "XJjh-8mkYdnI",
        "colab": {}
      },
      "source": [
        "y_train.shape"
      ],
      "execution_count": 0,
      "outputs": []
    },
    {
      "cell_type": "code",
      "metadata": {
        "colab_type": "code",
        "id": "yYTzxlwFYdnJ",
        "colab": {}
      },
      "source": [
        "X_train[0]"
      ],
      "execution_count": 0,
      "outputs": []
    },
    {
      "cell_type": "markdown",
      "metadata": {
        "id": "ChVDKENgZRb8",
        "colab_type": "text"
      },
      "source": [
        "### VGG Progressive 128x300"
      ]
    },
    {
      "cell_type": "code",
      "metadata": {
        "colab_type": "code",
        "outputId": "070e68f0-0ba8-4f60-b791-6482593ec236",
        "id": "77ChgmiBZY1c",
        "colab": {
          "base_uri": "https://localhost:8080/",
          "height": 34
        }
      },
      "source": [
        "X_train_RGB = X_train.reshape((-1, 128, 300))\n",
        "X_train_RGB = np.repeat(X_train_RGB[..., np.newaxis], 3, -1)\n",
        "X_train_RGB.shape"
      ],
      "execution_count": 0,
      "outputs": [
        {
          "output_type": "execute_result",
          "data": {
            "text/plain": [
              "(6397, 42, 100, 3)"
            ]
          },
          "metadata": {
            "tags": []
          },
          "execution_count": 116
        }
      ]
    },
    {
      "cell_type": "code",
      "metadata": {
        "colab_type": "code",
        "outputId": "2ee1cb59-b617-4f94-f575-834542edd548",
        "id": "pdXVwEVVZY1h",
        "colab": {
          "base_uri": "https://localhost:8080/",
          "height": 34
        }
      },
      "source": [
        "X_val_RGB = X_val.reshape((-1, 128, 300))\n",
        "X_val_RGB = np.repeat(X_val_RGB[..., np.newaxis], 3, -1)\n",
        "X_val_RGB.shape"
      ],
      "execution_count": 0,
      "outputs": [
        {
          "output_type": "execute_result",
          "data": {
            "text/plain": [
              "(800, 42, 100, 3)"
            ]
          },
          "metadata": {
            "tags": []
          },
          "execution_count": 117
        }
      ]
    },
    {
      "cell_type": "code",
      "metadata": {
        "colab_type": "code",
        "id": "_5K6h8Z8ZY1j",
        "colab": {}
      },
      "source": [
        "from keras.preprocessing.image import ImageDataGenerator\n",
        "\n",
        "train_datagen = ImageDataGenerator(rotation_range=20, width_shift_range=0.2, height_shift_range=0.2, horizontal_flip=True, fill_mode='nearest')\n",
        "train_batchsize = 32\n",
        "val_batchsize = 16\n",
        "val_datagen = ImageDataGenerator()\n",
        "\n",
        "train_generator = train_datagen.flow(X_train_RGB, y_train, batch_size=train_batchsize)\n",
        "#val_generator = train_datagen.flow(X_train_RGB, y_train, batch_size=val_batchsize, subset='validation')\n"
      ],
      "execution_count": 0,
      "outputs": []
    },
    {
      "cell_type": "code",
      "metadata": {
        "colab_type": "code",
        "id": "ek3w1ypSZY1l",
        "colab": {}
      },
      "source": [
        "model = keras.Sequential()\n",
        "model.add(Conv2D(64, kernel_size=(3, 3), input_shape=(84, 200, 3), activation='relu', padding='same', data_format='channels_last'))\n",
        "model.add(Conv2D(64, kernel_size=(3, 3), activation='relu', padding='same'))\n",
        "model.add(MaxPool2D(pool_size=(2, 2)))\n",
        "\n",
        "# load the pretrained model\n",
        "prior = load_model('retrained-model-mel-spec-generator-progressive.hdf5')\n",
        "\n",
        "# add all but the first two layers of VGG16 to the new model\n",
        "# strip the input layer out, this is now 96x96\n",
        "# also strip out the first convolutional layer, this took the 48x48 input and convolved it but\n",
        "# this is now the job of the three new layers.\n",
        "for layer in prior.layers[0].layers[2:]:\n",
        "    model.add(layer)\n",
        "\n",
        "for layer in prior.layers[-4:]:\n",
        "  layer.trainable=False\n",
        "\n",
        "# re-add the feedforward layers on top\n",
        "for layer in prior.layers[1:]:\n",
        "  model.add(layer)\n",
        "\n",
        "# the pretrained CNN layers are already marked non-trainable\n",
        "# mark off the top layers as well\n"
      ],
      "execution_count": 0,
      "outputs": []
    },
    {
      "cell_type": "code",
      "metadata": {
        "colab_type": "code",
        "id": "0X3H3F4bZY1m",
        "colab": {}
      },
      "source": [
        "model.compile(loss='categorical_crossentropy', optimizer=keras.optimizers.Adam(lr=0.0001), metrics=['categorical_accuracy'])"
      ],
      "execution_count": 0,
      "outputs": []
    },
    {
      "cell_type": "code",
      "metadata": {
        "colab_type": "code",
        "outputId": "eb2959da-b767-4e52-ccaf-8443a0162d7d",
        "id": "lDFLv976ZY1o",
        "colab": {
          "base_uri": "https://localhost:8080/",
          "height": 375
        }
      },
      "source": [
        "mcp_save = ModelCheckpoint('retrained-model-mel-spec-generator-progressive-84.hdf5', save_best_only=True, monitor='val_categorical_accuracy', mode='max', verbose=0)\n",
        "history = model.fit(train_generator, steps_per_epoch=len(X_train)/ train_batchsize, epochs=50, validation_data=(X_val_RGB, y_val), callbacks=[mcp_save])\n",
        "plt.plot(history.history['categorical_accuracy'])\n",
        "plt.plot(history.history['val_categorical_accuracy'])\n",
        "plt.legend(['Train', 'Val'], loc='upper left')\n",
        "plt.show()\n",
        "plt.plot(history.history['loss'])\n",
        "plt.plot(history.history['val_loss'])\n",
        "plt.legend(['Train', 'Val'], loc='upper left')\n",
        "plt.show()\n",
        "\n",
        "model = load_model('retrained-model-mel-spec-generator-progressive-84.hdf5')\n",
        "print('Train:')\n",
        "print(model.evaluate(X_train_RGB, y_train, verbose=2))\n",
        "print('Val:')\n",
        "print(model.evaluate(X_val_RGB, y_val, verbose=2))"
      ],
      "execution_count": 0,
      "outputs": [
        {
          "output_type": "error",
          "ename": "ValueError",
          "evalue": "ignored",
          "traceback": [
            "\u001b[0;31m---------------------------------------------------------------------------\u001b[0m",
            "\u001b[0;31mValueError\u001b[0m                                Traceback (most recent call last)",
            "\u001b[0;32m<ipython-input-89-091479a74f50>\u001b[0m in \u001b[0;36m<module>\u001b[0;34m()\u001b[0m\n\u001b[1;32m      1\u001b[0m \u001b[0mmcp_save\u001b[0m \u001b[0;34m=\u001b[0m \u001b[0mModelCheckpoint\u001b[0m\u001b[0;34m(\u001b[0m\u001b[0;34m'retrained-model-mel-spec-generator-progressive.hdf5'\u001b[0m\u001b[0;34m,\u001b[0m \u001b[0msave_best_only\u001b[0m\u001b[0;34m=\u001b[0m\u001b[0;32mTrue\u001b[0m\u001b[0;34m,\u001b[0m \u001b[0mmonitor\u001b[0m\u001b[0;34m=\u001b[0m\u001b[0;34m'val_categorical_accuracy'\u001b[0m\u001b[0;34m,\u001b[0m \u001b[0mmode\u001b[0m\u001b[0;34m=\u001b[0m\u001b[0;34m'max'\u001b[0m\u001b[0;34m,\u001b[0m \u001b[0mverbose\u001b[0m\u001b[0;34m=\u001b[0m\u001b[0;36m0\u001b[0m\u001b[0;34m)\u001b[0m\u001b[0;34m\u001b[0m\u001b[0;34m\u001b[0m\u001b[0m\n\u001b[0;32m----> 2\u001b[0;31m \u001b[0mhistory\u001b[0m \u001b[0;34m=\u001b[0m \u001b[0mmodel\u001b[0m\u001b[0;34m.\u001b[0m\u001b[0mfit\u001b[0m\u001b[0;34m(\u001b[0m\u001b[0mtrain_generator\u001b[0m\u001b[0;34m,\u001b[0m \u001b[0msteps_per_epoch\u001b[0m\u001b[0;34m=\u001b[0m\u001b[0mlen\u001b[0m\u001b[0;34m(\u001b[0m\u001b[0mX_train\u001b[0m\u001b[0;34m)\u001b[0m\u001b[0;34m/\u001b[0m \u001b[0mtrain_batchsize\u001b[0m\u001b[0;34m,\u001b[0m \u001b[0mepochs\u001b[0m\u001b[0;34m=\u001b[0m\u001b[0;36m50\u001b[0m\u001b[0;34m,\u001b[0m \u001b[0mvalidation_data\u001b[0m\u001b[0;34m=\u001b[0m\u001b[0;34m(\u001b[0m\u001b[0mX_val_RGB\u001b[0m\u001b[0;34m,\u001b[0m \u001b[0my_val\u001b[0m\u001b[0;34m)\u001b[0m\u001b[0;34m,\u001b[0m \u001b[0mcallbacks\u001b[0m\u001b[0;34m=\u001b[0m\u001b[0;34m[\u001b[0m\u001b[0mmcp_save\u001b[0m\u001b[0;34m]\u001b[0m\u001b[0;34m)\u001b[0m\u001b[0;34m\u001b[0m\u001b[0;34m\u001b[0m\u001b[0m\n\u001b[0m\u001b[1;32m      3\u001b[0m \u001b[0mplt\u001b[0m\u001b[0;34m.\u001b[0m\u001b[0mplot\u001b[0m\u001b[0;34m(\u001b[0m\u001b[0mhistory\u001b[0m\u001b[0;34m.\u001b[0m\u001b[0mhistory\u001b[0m\u001b[0;34m[\u001b[0m\u001b[0;34m'categorical_accuracy'\u001b[0m\u001b[0;34m]\u001b[0m\u001b[0;34m)\u001b[0m\u001b[0;34m\u001b[0m\u001b[0;34m\u001b[0m\u001b[0m\n\u001b[1;32m      4\u001b[0m \u001b[0mplt\u001b[0m\u001b[0;34m.\u001b[0m\u001b[0mplot\u001b[0m\u001b[0;34m(\u001b[0m\u001b[0mhistory\u001b[0m\u001b[0;34m.\u001b[0m\u001b[0mhistory\u001b[0m\u001b[0;34m[\u001b[0m\u001b[0;34m'val_categorical_accuracy'\u001b[0m\u001b[0;34m]\u001b[0m\u001b[0;34m)\u001b[0m\u001b[0;34m\u001b[0m\u001b[0;34m\u001b[0m\u001b[0m\n\u001b[1;32m      5\u001b[0m \u001b[0mplt\u001b[0m\u001b[0;34m.\u001b[0m\u001b[0mlegend\u001b[0m\u001b[0;34m(\u001b[0m\u001b[0;34m[\u001b[0m\u001b[0;34m'Train'\u001b[0m\u001b[0;34m,\u001b[0m \u001b[0;34m'Val'\u001b[0m\u001b[0;34m]\u001b[0m\u001b[0;34m,\u001b[0m \u001b[0mloc\u001b[0m\u001b[0;34m=\u001b[0m\u001b[0;34m'upper left'\u001b[0m\u001b[0;34m)\u001b[0m\u001b[0;34m\u001b[0m\u001b[0;34m\u001b[0m\u001b[0m\n",
            "\u001b[0;32m/usr/local/lib/python3.6/dist-packages/keras/engine/training.py\u001b[0m in \u001b[0;36mfit\u001b[0;34m(self, x, y, batch_size, epochs, verbose, callbacks, validation_split, validation_data, shuffle, class_weight, sample_weight, initial_epoch, steps_per_epoch, validation_steps, validation_freq, max_queue_size, workers, use_multiprocessing, **kwargs)\u001b[0m\n\u001b[1;32m   1145\u001b[0m                 \u001b[0muse_multiprocessing\u001b[0m\u001b[0;34m=\u001b[0m\u001b[0muse_multiprocessing\u001b[0m\u001b[0;34m,\u001b[0m\u001b[0;34m\u001b[0m\u001b[0;34m\u001b[0m\u001b[0m\n\u001b[1;32m   1146\u001b[0m                 \u001b[0mshuffle\u001b[0m\u001b[0;34m=\u001b[0m\u001b[0mshuffle\u001b[0m\u001b[0;34m,\u001b[0m\u001b[0;34m\u001b[0m\u001b[0;34m\u001b[0m\u001b[0m\n\u001b[0;32m-> 1147\u001b[0;31m                 initial_epoch=initial_epoch)\n\u001b[0m\u001b[1;32m   1148\u001b[0m \u001b[0;34m\u001b[0m\u001b[0m\n\u001b[1;32m   1149\u001b[0m         \u001b[0;31m# Case 2: Symbolic tensors or Numpy array-like.\u001b[0m\u001b[0;34m\u001b[0m\u001b[0;34m\u001b[0m\u001b[0;34m\u001b[0m\u001b[0m\n",
            "\u001b[0;32m/usr/local/lib/python3.6/dist-packages/keras/legacy/interfaces.py\u001b[0m in \u001b[0;36mwrapper\u001b[0;34m(*args, **kwargs)\u001b[0m\n\u001b[1;32m     89\u001b[0m                 warnings.warn('Update your `' + object_name + '` call to the ' +\n\u001b[1;32m     90\u001b[0m                               'Keras 2 API: ' + signature, stacklevel=2)\n\u001b[0;32m---> 91\u001b[0;31m             \u001b[0;32mreturn\u001b[0m \u001b[0mfunc\u001b[0m\u001b[0;34m(\u001b[0m\u001b[0;34m*\u001b[0m\u001b[0margs\u001b[0m\u001b[0;34m,\u001b[0m \u001b[0;34m**\u001b[0m\u001b[0mkwargs\u001b[0m\u001b[0;34m)\u001b[0m\u001b[0;34m\u001b[0m\u001b[0;34m\u001b[0m\u001b[0m\n\u001b[0m\u001b[1;32m     92\u001b[0m         \u001b[0mwrapper\u001b[0m\u001b[0;34m.\u001b[0m\u001b[0m_original_function\u001b[0m \u001b[0;34m=\u001b[0m \u001b[0mfunc\u001b[0m\u001b[0;34m\u001b[0m\u001b[0;34m\u001b[0m\u001b[0m\n\u001b[1;32m     93\u001b[0m         \u001b[0;32mreturn\u001b[0m \u001b[0mwrapper\u001b[0m\u001b[0;34m\u001b[0m\u001b[0;34m\u001b[0m\u001b[0m\n",
            "\u001b[0;32m/usr/local/lib/python3.6/dist-packages/keras/engine/training.py\u001b[0m in \u001b[0;36mfit_generator\u001b[0;34m(self, generator, steps_per_epoch, epochs, verbose, callbacks, validation_data, validation_steps, validation_freq, class_weight, max_queue_size, workers, use_multiprocessing, shuffle, initial_epoch)\u001b[0m\n\u001b[1;32m   1730\u001b[0m             \u001b[0muse_multiprocessing\u001b[0m\u001b[0;34m=\u001b[0m\u001b[0muse_multiprocessing\u001b[0m\u001b[0;34m,\u001b[0m\u001b[0;34m\u001b[0m\u001b[0;34m\u001b[0m\u001b[0m\n\u001b[1;32m   1731\u001b[0m             \u001b[0mshuffle\u001b[0m\u001b[0;34m=\u001b[0m\u001b[0mshuffle\u001b[0m\u001b[0;34m,\u001b[0m\u001b[0;34m\u001b[0m\u001b[0;34m\u001b[0m\u001b[0m\n\u001b[0;32m-> 1732\u001b[0;31m             initial_epoch=initial_epoch)\n\u001b[0m\u001b[1;32m   1733\u001b[0m \u001b[0;34m\u001b[0m\u001b[0m\n\u001b[1;32m   1734\u001b[0m     \u001b[0;34m@\u001b[0m\u001b[0minterfaces\u001b[0m\u001b[0;34m.\u001b[0m\u001b[0mlegacy_generator_methods_support\u001b[0m\u001b[0;34m\u001b[0m\u001b[0;34m\u001b[0m\u001b[0m\n",
            "\u001b[0;32m/usr/local/lib/python3.6/dist-packages/keras/engine/training_generator.py\u001b[0m in \u001b[0;36mfit_generator\u001b[0;34m(model, generator, steps_per_epoch, epochs, verbose, callbacks, validation_data, validation_steps, validation_freq, class_weight, max_queue_size, workers, use_multiprocessing, shuffle, initial_epoch)\u001b[0m\n\u001b[1;32m    148\u001b[0m                                      str(validation_data))\n\u001b[1;32m    149\u001b[0m                 val_x, val_y, val_sample_weights = model._standardize_user_data(\n\u001b[0;32m--> 150\u001b[0;31m                     val_x, val_y, val_sample_weight)\n\u001b[0m\u001b[1;32m    151\u001b[0m                 \u001b[0mval_data\u001b[0m \u001b[0;34m=\u001b[0m \u001b[0mval_x\u001b[0m \u001b[0;34m+\u001b[0m \u001b[0mval_y\u001b[0m \u001b[0;34m+\u001b[0m \u001b[0mval_sample_weights\u001b[0m\u001b[0;34m\u001b[0m\u001b[0;34m\u001b[0m\u001b[0m\n\u001b[1;32m    152\u001b[0m                 if model.uses_learning_phase and not isinstance(K.learning_phase(),\n",
            "\u001b[0;32m/usr/local/lib/python3.6/dist-packages/keras/engine/training.py\u001b[0m in \u001b[0;36m_standardize_user_data\u001b[0;34m(self, x, y, sample_weight, class_weight, check_array_lengths, batch_size)\u001b[0m\n\u001b[1;32m    577\u001b[0m             \u001b[0mfeed_input_shapes\u001b[0m\u001b[0;34m,\u001b[0m\u001b[0;34m\u001b[0m\u001b[0;34m\u001b[0m\u001b[0m\n\u001b[1;32m    578\u001b[0m             \u001b[0mcheck_batch_axis\u001b[0m\u001b[0;34m=\u001b[0m\u001b[0;32mFalse\u001b[0m\u001b[0;34m,\u001b[0m  \u001b[0;31m# Don't enforce the batch size.\u001b[0m\u001b[0;34m\u001b[0m\u001b[0;34m\u001b[0m\u001b[0m\n\u001b[0;32m--> 579\u001b[0;31m             exception_prefix='input')\n\u001b[0m\u001b[1;32m    580\u001b[0m \u001b[0;34m\u001b[0m\u001b[0m\n\u001b[1;32m    581\u001b[0m         \u001b[0;32mif\u001b[0m \u001b[0my\u001b[0m \u001b[0;32mis\u001b[0m \u001b[0;32mnot\u001b[0m \u001b[0;32mNone\u001b[0m\u001b[0;34m:\u001b[0m\u001b[0;34m\u001b[0m\u001b[0;34m\u001b[0m\u001b[0m\n",
            "\u001b[0;32m/usr/local/lib/python3.6/dist-packages/keras/engine/training_utils.py\u001b[0m in \u001b[0;36mstandardize_input_data\u001b[0;34m(data, names, shapes, check_batch_axis, exception_prefix)\u001b[0m\n\u001b[1;32m    143\u001b[0m                             \u001b[0;34m': expected '\u001b[0m \u001b[0;34m+\u001b[0m \u001b[0mnames\u001b[0m\u001b[0;34m[\u001b[0m\u001b[0mi\u001b[0m\u001b[0;34m]\u001b[0m \u001b[0;34m+\u001b[0m \u001b[0;34m' to have shape '\u001b[0m \u001b[0;34m+\u001b[0m\u001b[0;34m\u001b[0m\u001b[0;34m\u001b[0m\u001b[0m\n\u001b[1;32m    144\u001b[0m                             \u001b[0mstr\u001b[0m\u001b[0;34m(\u001b[0m\u001b[0mshape\u001b[0m\u001b[0;34m)\u001b[0m \u001b[0;34m+\u001b[0m \u001b[0;34m' but got array with shape '\u001b[0m \u001b[0;34m+\u001b[0m\u001b[0;34m\u001b[0m\u001b[0;34m\u001b[0m\u001b[0m\n\u001b[0;32m--> 145\u001b[0;31m                             str(data_shape))\n\u001b[0m\u001b[1;32m    146\u001b[0m     \u001b[0;32mreturn\u001b[0m \u001b[0mdata\u001b[0m\u001b[0;34m\u001b[0m\u001b[0;34m\u001b[0m\u001b[0m\n\u001b[1;32m    147\u001b[0m \u001b[0;34m\u001b[0m\u001b[0m\n",
            "\u001b[0;31mValueError\u001b[0m: Error when checking input: expected conv2d_43_input to have shape (256, 200, 3) but got array with shape (128, 100, 3)"
          ]
        }
      ]
    },
    {
      "cell_type": "code",
      "metadata": {
        "id": "UVSJWGb9mr6h",
        "colab_type": "code",
        "colab": {}
      },
      "source": [
        "X_test_RGB = X_test.reshape((-1, 128, 400))\n",
        "X_test_RGB = np.repeat(X_test_RGB[..., np.newaxis], 3, -1)\n",
        "X_test_RGB.shape"
      ],
      "execution_count": 0,
      "outputs": []
    }
  ]
}